{
 "cells": [
  {
   "cell_type": "markdown",
   "metadata": {},
   "source": [
    "Service Documentation\n",
    "https://waterservices.usgs.gov/rest/DV-Test-Tool.html\n",
    "\n",
    "Example URL:\n",
    "http://waterservices.usgs.gov/nwis/dv/?format=rdb&sites=02089000&startDT=2010-10-01&endDT=2017-09-30&statCd=00003&parameterCd=00060&siteStatus=all"
   ]
  },
  {
   "cell_type": "code",
   "execution_count": 1,
   "metadata": {
    "collapsed": true
   },
   "outputs": [],
   "source": [
    "#Import libraries\n",
    "import requests\n",
    "import pandas as pd\n",
    "import io, json"
   ]
  },
  {
   "cell_type": "code",
   "execution_count": 2,
   "metadata": {
    "collapsed": true
   },
   "outputs": [],
   "source": [
    "#Set site, parameter, and stat codes\n",
    "siteNo = '02089000'\n",
    "pcode = '00060'\n",
    "scode = '00003'"
   ]
  },
  {
   "cell_type": "code",
   "execution_count": 3,
   "metadata": {
    "collapsed": true
   },
   "outputs": [],
   "source": [
    "#Set start and end dates\n",
    "startDate = '1930-10-01'\n",
    "endDate = '2017-09-03'"
   ]
  },
  {
   "cell_type": "code",
   "execution_count": 4,
   "metadata": {
    "collapsed": true
   },
   "outputs": [],
   "source": [
    "#Set the service (dv = daily values)\n",
    "serv = 'dv'"
   ]
  },
  {
   "cell_type": "code",
   "execution_count": 5,
   "metadata": {
    "collapsed": true
   },
   "outputs": [],
   "source": [
    "#Construct the service URL and parameters\n",
    "url =  'http://waterservices.usgs.gov/nwis/{}'.format(serv)\n",
    "params = {'sites':siteNo,\n",
    "          'parameterCd':pcode,\n",
    "          'statCd':scode,\n",
    "          'startDT':startDate,\n",
    "          'endDT':endDate,\n",
    "          'format':'json',\n",
    "          'siteStatus':'all'\n",
    "         }"
   ]
  },
  {
   "cell_type": "code",
   "execution_count": 6,
   "metadata": {
    "collapsed": true
   },
   "outputs": [],
   "source": [
    "#Send the requests and translate the response\n",
    "response_json = requests.get(url,params).json()"
   ]
  },
  {
   "cell_type": "code",
   "execution_count": 7,
   "metadata": {
    "collapsed": true
   },
   "outputs": [],
   "source": [
    "#Get the timeseries data object\n",
    "ts = response_json['value']['timeSeries'][0]"
   ]
  },
  {
   "cell_type": "code",
   "execution_count": 8,
   "metadata": {},
   "outputs": [
    {
     "data": {
      "text/plain": [
       "{'noDataValue': -999999.0,\n",
       " 'note': [],\n",
       " 'oid': '45807197',\n",
       " 'options': {'option': [{'name': 'Statistic',\n",
       "    'optionCode': '00003',\n",
       "    'value': 'Mean'}]},\n",
       " 'unit': {'unitCode': 'ft3/s'},\n",
       " 'valueType': 'Derived Value',\n",
       " 'variableCode': [{'default': True,\n",
       "   'network': 'NWIS',\n",
       "   'value': '00060',\n",
       "   'variableID': 45807197,\n",
       "   'vocabulary': 'NWIS:UnitValues'}],\n",
       " 'variableDescription': 'Discharge, cubic feet per second',\n",
       " 'variableName': 'Streamflow, ft&#179;/s',\n",
       " 'variableProperty': []}"
      ]
     },
     "execution_count": 8,
     "metadata": {},
     "output_type": "execute_result"
    }
   ],
   "source": [
    "ts['variable']"
   ]
  },
  {
   "cell_type": "code",
   "execution_count": null,
   "metadata": {
    "collapsed": true
   },
   "outputs": [],
   "source": []
  }
 ],
 "metadata": {
  "kernelspec": {
   "display_name": "Python 3",
   "language": "python",
   "name": "python3"
  },
  "language_info": {
   "codemirror_mode": {
    "name": "ipython",
    "version": 3
   },
   "file_extension": ".py",
   "mimetype": "text/x-python",
   "name": "python",
   "nbconvert_exporter": "python",
   "pygments_lexer": "ipython3",
   "version": "3.5.3"
  }
 },
 "nbformat": 4,
 "nbformat_minor": 2
}
