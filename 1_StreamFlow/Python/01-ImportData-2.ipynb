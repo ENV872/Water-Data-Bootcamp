{
 "cells": [
  {
   "cell_type": "markdown",
   "metadata": {},
   "source": [
    "# Import Data - 2 \n",
    "In this example we see the power of scripting over Excel in that, once we have code for one site, it's fairly easy to repeat the code for many sites."
   ]
  },
  {
   "cell_type": "code",
   "execution_count": 1,
   "metadata": {
    "collapsed": true
   },
   "outputs": [],
   "source": [
    "#Import libraries\n",
    "import requests, io\n",
    "import pandas as pd\n",
    "import numpy as np\n",
    "import ipyleaflet as lf"
   ]
  },
  {
   "cell_type": "code",
   "execution_count": 2,
   "metadata": {
    "collapsed": true
   },
   "outputs": [],
   "source": [
    "#Generate a list of all sites in NC using the NWIS API \n",
    "# see https://waterservices.usgs.gov/rest/DV-Service.html\n",
    "url = 'http://waterservices.usgs.gov/nwis/site'\n",
    "params = {'stateCd':'NC',        #NC Sites Only\n",
    "          'siteStatus':'active',    #Get all(active and inactive) sites\n",
    "          'siteType':'ST',       #Stream sites only\n",
    "          'parameterCd':'00060', #DISCHARGE(cfs), see https://help.waterdata.usgs.gov/codes-and-parameters/parameters\n",
    "          'format':'rdb'         #RDB (csv)\n",
    "         }"
   ]
  },
  {
   "cell_type": "code",
   "execution_count": 3,
   "metadata": {
    "collapsed": true
   },
   "outputs": [],
   "source": [
    "#Send the requests and translate the response\n",
    "response_raw = requests.get(url,params)"
   ]
  },
  {
   "cell_type": "code",
   "execution_count": 4,
   "metadata": {
    "collapsed": true
   },
   "outputs": [],
   "source": [
    "#Decode to remove any odd characters (accents, etc.)\n",
    "response_clean = response_raw.content.decode('utf-8')"
   ]
  },
  {
   "cell_type": "code",
   "execution_count": 5,
   "metadata": {
    "collapsed": true
   },
   "outputs": [],
   "source": [
    "#Build a list of line numbers to skip from comments and data types\n",
    "rowsToSkip= [] #Create an empty list to hold line numbers\n",
    "lineNumber = 0 #Initialize a line number variable\n",
    "#Iterate through lines, adding the line number to the list for comment lines\n",
    "for lineNumber, lineString in enumerate(response_clean.split(\"\\n\")):\n",
    "    if lineString.startswith('#'): \n",
    "        rowsToSkip.append(lineNumber)\n",
    "    else:\n",
    "        break\n",
    "#Add another line 2 greater than the last\n",
    "dataTypeLineNumber = rowsToSkip[-1] + 2\n",
    "rowsToSkip.append(dataTypeLineNumber)"
   ]
  },
  {
   "cell_type": "code",
   "execution_count": 6,
   "metadata": {},
   "outputs": [
    {
     "data": {
      "text/html": [
       "<div>\n",
       "<style>\n",
       "    .dataframe thead tr:only-child th {\n",
       "        text-align: right;\n",
       "    }\n",
       "\n",
       "    .dataframe thead th {\n",
       "        text-align: left;\n",
       "    }\n",
       "\n",
       "    .dataframe tbody tr th {\n",
       "        vertical-align: top;\n",
       "    }\n",
       "</style>\n",
       "<table border=\"1\" class=\"dataframe\">\n",
       "  <thead>\n",
       "    <tr style=\"text-align: right;\">\n",
       "      <th></th>\n",
       "      <th>agency_cd</th>\n",
       "      <th>site_no</th>\n",
       "      <th>station_nm</th>\n",
       "      <th>site_tp_cd</th>\n",
       "      <th>dec_lat_va</th>\n",
       "      <th>dec_long_va</th>\n",
       "      <th>coord_acy_cd</th>\n",
       "      <th>dec_coord_datum_cd</th>\n",
       "      <th>alt_va</th>\n",
       "      <th>alt_acy_va</th>\n",
       "      <th>alt_datum_cd</th>\n",
       "      <th>huc_cd</th>\n",
       "    </tr>\n",
       "  </thead>\n",
       "  <tbody>\n",
       "    <tr>\n",
       "      <th>0</th>\n",
       "      <td>USGS</td>\n",
       "      <td>0204382800</td>\n",
       "      <td>PASQUOTANK RIVER NEAR SOUTH MILLS, NC</td>\n",
       "      <td>ST</td>\n",
       "      <td>36.421389</td>\n",
       "      <td>-76.342500</td>\n",
       "      <td>S</td>\n",
       "      <td>NAD83</td>\n",
       "      <td>-5.50</td>\n",
       "      <td>0.11</td>\n",
       "      <td>NAVD88</td>\n",
       "      <td>3010205</td>\n",
       "    </tr>\n",
       "    <tr>\n",
       "      <th>1</th>\n",
       "      <td>USGS</td>\n",
       "      <td>02053200</td>\n",
       "      <td>POTECASI CREEK NEAR UNION, NC</td>\n",
       "      <td>ST</td>\n",
       "      <td>36.370833</td>\n",
       "      <td>-77.025556</td>\n",
       "      <td>S</td>\n",
       "      <td>NAD83</td>\n",
       "      <td>3.53</td>\n",
       "      <td>0.01</td>\n",
       "      <td>NGVD29</td>\n",
       "      <td>3010204</td>\n",
       "    </tr>\n",
       "    <tr>\n",
       "      <th>2</th>\n",
       "      <td>USGS</td>\n",
       "      <td>02053500</td>\n",
       "      <td>AHOSKIE CREEK AT AHOSKIE, NC</td>\n",
       "      <td>ST</td>\n",
       "      <td>36.280278</td>\n",
       "      <td>-76.999444</td>\n",
       "      <td>S</td>\n",
       "      <td>NAD83</td>\n",
       "      <td>17.46</td>\n",
       "      <td>0.01</td>\n",
       "      <td>NGVD29</td>\n",
       "      <td>3010203</td>\n",
       "    </tr>\n",
       "    <tr>\n",
       "      <th>3</th>\n",
       "      <td>USGS</td>\n",
       "      <td>02068500</td>\n",
       "      <td>DAN RIVER NEAR FRANCISCO, NC</td>\n",
       "      <td>ST</td>\n",
       "      <td>36.515000</td>\n",
       "      <td>-80.303056</td>\n",
       "      <td>S</td>\n",
       "      <td>NAD83</td>\n",
       "      <td>831.99</td>\n",
       "      <td>0.01</td>\n",
       "      <td>NGVD29</td>\n",
       "      <td>3010103</td>\n",
       "    </tr>\n",
       "    <tr>\n",
       "      <th>4</th>\n",
       "      <td>USGS</td>\n",
       "      <td>02069000</td>\n",
       "      <td>DAN RIVER AT PINE HALL, NC</td>\n",
       "      <td>ST</td>\n",
       "      <td>36.319303</td>\n",
       "      <td>-80.050042</td>\n",
       "      <td>S</td>\n",
       "      <td>NAD83</td>\n",
       "      <td>563.70</td>\n",
       "      <td>0.33</td>\n",
       "      <td>NAVD88</td>\n",
       "      <td>3010103</td>\n",
       "    </tr>\n",
       "  </tbody>\n",
       "</table>\n",
       "</div>"
      ],
      "text/plain": [
       "  agency_cd     site_no                             station_nm site_tp_cd  \\\n",
       "0      USGS  0204382800  PASQUOTANK RIVER NEAR SOUTH MILLS, NC         ST   \n",
       "1      USGS    02053200          POTECASI CREEK NEAR UNION, NC         ST   \n",
       "2      USGS    02053500           AHOSKIE CREEK AT AHOSKIE, NC         ST   \n",
       "3      USGS    02068500           DAN RIVER NEAR FRANCISCO, NC         ST   \n",
       "4      USGS    02069000             DAN RIVER AT PINE HALL, NC         ST   \n",
       "\n",
       "   dec_lat_va  dec_long_va coord_acy_cd dec_coord_datum_cd  alt_va  \\\n",
       "0   36.421389   -76.342500            S              NAD83   -5.50   \n",
       "1   36.370833   -77.025556            S              NAD83    3.53   \n",
       "2   36.280278   -76.999444            S              NAD83   17.46   \n",
       "3   36.515000   -80.303056            S              NAD83  831.99   \n",
       "4   36.319303   -80.050042            S              NAD83  563.70   \n",
       "\n",
       "   alt_acy_va alt_datum_cd   huc_cd  \n",
       "0        0.11       NAVD88  3010205  \n",
       "1        0.01       NGVD29  3010204  \n",
       "2        0.01       NGVD29  3010203  \n",
       "3        0.01       NGVD29  3010103  \n",
       "4        0.33       NAVD88  3010103  "
      ]
     },
     "execution_count": 6,
     "metadata": {},
     "output_type": "execute_result"
    }
   ],
   "source": [
    "#Convert the data into a data frame\n",
    "df = pd.read_csv(io.StringIO(response_clean),\n",
    "                 skiprows=rowsToSkip,     #Skip metadta and data spec lines\n",
    "                 delimiter='\\t',          #Set to tab delimited\n",
    "                 dtype={'site_no':'str'}) #Set site_no to a string datatype\n",
    "#Print the number of returned sites\n",
    "df.head()"
   ]
  },
  {
   "cell_type": "code",
   "execution_count": 8,
   "metadata": {
    "collapsed": true
   },
   "outputs": [],
   "source": [
    "from ipyleaflet import (\n",
    "    Map,\n",
    "    Marker, MarkerCluster,\n",
    "    TileLayer, ImageOverlay,\n",
    "    Polyline, Polygon, Rectangle, Circle, CircleMarker,\n",
    "    GeoJSON,\n",
    "    DrawControl\n",
    ")"
   ]
  },
  {
   "cell_type": "code",
   "execution_count": 16,
   "metadata": {},
   "outputs": [
    {
     "data": {
      "application/vnd.jupyter.widget-view+json": {
       "model_id": "d26ff5c00ea644de972ac62691b3e4e7",
       "version_major": 2,
       "version_minor": 0
      },
      "text/html": [
       "<p>Failed to display Jupyter Widget of type <code>Map</code>.</p>\n",
       "<p>\n",
       "  If you're reading this message in the Jupyter Notebook or JupyterLab Notebook, it may mean\n",
       "  that the widgets JavaScript is still loading. If this message persists, it\n",
       "  likely means that the widgets JavaScript library is either not installed or\n",
       "  not enabled. See the <a href=\"https://ipywidgets.readthedocs.io/en/stable/user_install.html\">Jupyter\n",
       "  Widgets Documentation</a> for setup instructions.\n",
       "</p>\n",
       "<p>\n",
       "  If you're reading this message in another frontend (for example, a static\n",
       "  rendering on GitHub or <a href=\"https://nbviewer.jupyter.org/\">NBViewer</a>),\n",
       "  it may mean that your frontend doesn't currently support widgets.\n",
       "</p>\n"
      ],
      "text/plain": [
       "Map(basemap={'max_zoom': 19, 'url': 'https://{s}.tile.openstreetmap.org/{z}/{x}/{y}.png', 'attribution': 'Map data (c) <a href=\"https://openstreetmap.org\">OpenStreetMap</a> contributors'}, center=[36, -80], default_tiles=TileLayer(options=['max_zoom', 'opacity', 'min_zoom', 'detect_retina', 'tile_size', 'attribution']), layers=(TileLayer(options=['max_zoom', 'opacity', 'min_zoom', 'detect_retina', 'tile_size', 'attribution']), Marker(location=[36.42138889, -76.3425], options=['keyboard', 'draggable', 'z_index_offset', 'rise_offset', 'rise_on_hover', 'alt', 'opacity', 'clickable', 'title'], title='PASQUOTANK RIVER NEAR SOUTH MILLS, NC'), Marker(location=[36.3708333, -77.0255556], options=['keyboard', 'draggable', 'z_index_offset', 'rise_offset', 'rise_on_hover', 'alt', 'opacity', 'clickable', 'title'], title='POTECASI CREEK NEAR UNION, NC'), Marker(location=[36.28027778, -76.9994444], options=['keyboard', 'draggable', 'z_index_offset', 'rise_offset', 'rise_on_hover', 'alt', 'opacity', 'clickable', 'title'], title='AHOSKIE CREEK AT AHOSKIE, NC'), Marker(location=[36.515, -80.3030556], options=['keyboard', 'draggable', 'z_index_offset', 'rise_offset', 'rise_on_hover', 'alt', 'opacity', 'clickable', 'title'], title='DAN RIVER NEAR FRANCISCO, NC'), Marker(location=[36.31930349, -80.05004240000001], options=['keyboard', 'draggable', 'z_index_offset', 'rise_offset', 'rise_on_hover', 'alt', 'opacity', 'clickable', 'title'], title='DAN RIVER AT PINE HALL, NC'), Marker(location=[36.53388889, -79.99138889], options=['keyboard', 'draggable', 'z_index_offset', 'rise_offset', 'rise_on_hover', 'alt', 'opacity', 'clickable', 'title'], title='MAYO RIVER NEAR PRICE, NC'), Marker(location=[36.4125, -79.82611109999999], options=['keyboard', 'draggable', 'z_index_offset', 'rise_offset', 'rise_on_hover', 'alt', 'opacity', 'clickable', 'title'], title='DAN RIVER NEAR WENTWORTH, NC'), Marker(location=[36.52555556, -79.7655556], options=['keyboard', 'draggable', 'z_index_offset', 'rise_offset', 'rise_on_hover', 'alt', 'opacity', 'clickable', 'title'], title='SMITH RIVER AT EDEN, NC'), Marker(location=[36.39777778, -79.19666670000001], options=['keyboard', 'draggable', 'z_index_offset', 'rise_offset', 'rise_on_hover', 'alt', 'opacity', 'clickable', 'title'], title='HYCO CREEK NEAR LEASBURG, NC'), Marker(location=[36.5225, -78.9975], options=['keyboard', 'draggable', 'z_index_offset', 'rise_offset', 'rise_on_hover', 'alt', 'opacity', 'clickable', 'title'], title='HYCO R BL ABAY D NR MCGEHEES MILL, NC'), Marker(location=[36.540833299999996, -78.8719444], options=['keyboard', 'draggable', 'z_index_offset', 'rise_offset', 'rise_on_hover', 'alt', 'opacity', 'clickable', 'title'], title='MAYO CR NR BETHEL HILL, NC'), Marker(location=[36.46, -77.6336111], options=['keyboard', 'draggable', 'z_index_offset', 'rise_offset', 'rise_on_hover', 'alt', 'opacity', 'clickable', 'title'], title='ROANOKE RIVER AT ROANOKE RAPIDS, NC'), Marker(location=[36.20916667, -77.38388889], options=['keyboard', 'draggable', 'z_index_offset', 'rise_offset', 'rise_on_hover', 'alt', 'opacity', 'clickable', 'title'], title='ROANOKE RIVER NEAR SCOTLAND NECK, NC'), Marker(location=[36.013611100000006, -77.21527778], options=['keyboard', 'draggable', 'z_index_offset', 'rise_offset', 'rise_on_hover', 'alt', 'opacity', 'clickable', 'title'], title='ROANOKE RIVER NEAR OAK CITY, NC'), Marker(location=[35.8597222, -77.04027778], options=['keyboard', 'draggable', 'z_index_offset', 'rise_offset', 'rise_on_hover', 'alt', 'opacity', 'clickable', 'title'], title='ROANOKE RIVER AT WILLIAMSTON, NC'), Marker(location=[36.04777778, -76.9841667], options=['keyboard', 'draggable', 'z_index_offset', 'rise_offset', 'rise_on_hover', 'alt', 'opacity', 'clickable', 'title'], title='CASHIE RIVER AT SR1257 NEAR WINDSOR, NC'), Marker(location=[36.19416667, -78.5830556], options=['keyboard', 'draggable', 'z_index_offset', 'rise_offset', 'rise_on_hover', 'alt', 'opacity', 'clickable', 'title'], title='TAR RIVER NEAR TAR RIVER, NC'), Marker(location=[36.09305556, -78.29611109999999], options=['keyboard', 'draggable', 'z_index_offset', 'rise_offset', 'rise_on_hover', 'alt', 'opacity', 'clickable', 'title'], title='TAR R AT US 401 AT LOUISBURG, NC'), Marker(location=[35.8820861, -78.08953889], options=['keyboard', 'draggable', 'z_index_offset', 'rise_offset', 'rise_on_hover', 'alt', 'opacity', 'clickable', 'title'], title='TAR RIVER AT NC-581 NEAR SPRING HOPE, NC'), Marker(location=[35.89987728, -77.88414888], options=['keyboard', 'draggable', 'z_index_offset', 'rise_offset', 'rise_on_hover', 'alt', 'opacity', 'clickable', 'title'], title='TAR RIVER BELOW DAM NEAR LANGLEY CROSSROADS, NC'), Marker(location=[35.9547222, -77.7872222], options=['keyboard', 'draggable', 'z_index_offset', 'rise_offset', 'rise_on_hover', 'alt', 'opacity', 'clickable', 'title'], title='TAR RIVER AT NC 97 AT ROCKY MOUNT, NC'), Marker(location=[36.1122222, -77.92], options=['keyboard', 'draggable', 'z_index_offset', 'rise_offset', 'rise_on_hover', 'alt', 'opacity', 'clickable', 'title'], title='SWIFT CREEK AT HILLIARDSTON, NC'), Marker(location=[36.1833333, -77.87611109999999], options=['keyboard', 'draggable', 'z_index_offset', 'rise_offset', 'rise_on_hover', 'alt', 'opacity', 'clickable', 'title'], title='LITTLE FISHING CREEK NEAR WHITE OAK, NC'), Marker(location=[36.15055556, -77.6930556], options=['keyboard', 'draggable', 'z_index_offset', 'rise_offset', 'rise_on_hover', 'alt', 'opacity', 'clickable', 'title'], title='FISHING CREEK NEAR ENFIELD, NC'), Marker(location=[35.89444444, -77.5330556], options=['keyboard', 'draggable', 'z_index_offset', 'rise_offset', 'rise_on_hover', 'alt', 'opacity', 'clickable', 'title'], title='TAR RIVER AT TARBORO, NC'), Marker(location=[35.61666667, -77.37277778], options=['keyboard', 'draggable', 'z_index_offset', 'rise_offset', 'rise_on_hover', 'alt', 'opacity', 'clickable', 'title'], title='TAR RIVER AT GREENVILLE, NC'), Marker(location=[35.56166667, -77.2308333], options=['keyboard', 'draggable', 'z_index_offset', 'rise_offset', 'rise_on_hover', 'alt', 'opacity', 'clickable', 'title'], title='CHICOD CR AT SR1760 NEAR SIMPSON, NC'), Marker(location=[35.5433333, -77.0619444], options=['keyboard', 'draggable', 'z_index_offset', 'rise_offset', 'rise_on_hover', 'alt', 'opacity', 'clickable', 'title'], title='PAMLICO RIVER AT WASHINGTON, NC'), Marker(location=[35.7308333, -76.7461111], options=['keyboard', 'draggable', 'z_index_offset', 'rise_offset', 'rise_on_hover', 'alt', 'opacity', 'clickable', 'title'], title='VAN SWAMP NEAR HOKE, NC'), Marker(location=[36.0711111, -79.0955556], options=['keyboard', 'draggable', 'z_index_offset', 'rise_offset', 'rise_on_hover', 'alt', 'opacity', 'clickable', 'title'], title='ENO RIVER AT HILLSBOROUGH, NC'), Marker(location=[36.0722222, -78.90777779999999], options=['keyboard', 'draggable', 'z_index_offset', 'rise_offset', 'rise_on_hover', 'alt', 'opacity', 'clickable', 'title'], title='ENO RIVER NEAR DURHAM, NC'), Marker(location=[36.14166667, -78.9191667], options=['keyboard', 'draggable', 'z_index_offset', 'rise_offset', 'rise_on_hover', 'alt', 'opacity', 'clickable', 'title'], title='LITTLE RIVER AT SR1461 NEAR ORANGE FACTORY, NC'), Marker(location=[36.1497222, -78.8966667], options=['keyboard', 'draggable', 'z_index_offset', 'rise_offset', 'rise_on_hover', 'alt', 'opacity', 'clickable', 'title'], title='MOUNTAIN CREEK AT SR1617 NR BAHAMA, NC'), Marker(location=[36.1133333, -78.85972220000001], options=['keyboard', 'draggable', 'z_index_offset', 'rise_offset', 'rise_on_hover', 'alt', 'opacity', 'clickable', 'title'], title='LITTLE R BL LITTLE R TRIB AT FAIRNTOSH, NC'), Marker(location=[36.18277778, -78.87888889], options=['keyboard', 'draggable', 'z_index_offset', 'rise_offset', 'rise_on_hover', 'alt', 'opacity', 'clickable', 'title'], title='FLAT RIVER AT BAHAMA, NC'), Marker(location=[36.148611100000004, -78.82888889], options=['keyboard', 'draggable', 'z_index_offset', 'rise_offset', 'rise_on_hover', 'alt', 'opacity', 'clickable', 'title'], title='FLAT RIVER AT DAM NEAR BAHAMA, NC'), Marker(location=[36.12792215, -78.7983389], options=['keyboard', 'draggable', 'z_index_offset', 'rise_offset', 'rise_on_hover', 'alt', 'opacity', 'clickable', 'title'], title='KNAP OF REEDS CREEK NEAR BUTNER, NC'), Marker(location=[36.01938889, -78.8947778], options=['keyboard', 'draggable', 'z_index_offset', 'rise_offset', 'rise_on_hover', 'alt', 'opacity', 'clickable', 'title'], title='ELLERBE CREEK AT CLUB BOULEVARD AT DURHAM, NC'), Marker(location=[36.05931106, -78.8325065], options=['keyboard', 'draggable', 'z_index_offset', 'rise_offset', 'rise_on_hover', 'alt', 'opacity', 'clickable', 'title'], title='ELLERBE CREEK NEAR GORMAN, NC'), Marker(location=[35.94, -78.5808333], options=['keyboard', 'draggable', 'z_index_offset', 'rise_offset', 'rise_on_hover', 'alt', 'opacity', 'clickable', 'title'], title='NEUSE RIVER NEAR FALLS, NC'), Marker(location=[35.84527778, -78.7244444], options=['keyboard', 'draggable', 'z_index_offset', 'rise_offset', 'rise_on_hover', 'alt', 'opacity', 'clickable', 'title'], title='CRABTREE CR AT EBENEZER CHURCH RD NR RALEIGH, NC'), Marker(location=[35.83805556, -78.6741667], options=['keyboard', 'draggable', 'z_index_offset', 'rise_offset', 'rise_on_hover', 'alt', 'opacity', 'clickable', 'title'], title='CRABTREE CREEK AT HWY 70 AT RALEIGH, NC'), Marker(location=[35.8158333, -78.62611109999999], options=['keyboard', 'draggable', 'z_index_offset', 'rise_offset', 'rise_on_hover', 'alt', 'opacity', 'clickable', 'title'], title='CRABTREE CR AT OLD WAKE FOREST RD AT RALEIGH, NC'), Marker(location=[35.811111100000005, -78.6108333], options=['keyboard', 'draggable', 'z_index_offset', 'rise_offset', 'rise_on_hover', 'alt', 'opacity', 'clickable', 'title'], title='CRABTREE CREEK AT US 1 AT RALEIGH, NC'), Marker(location=[35.7875, -78.65472220000001], options=['keyboard', 'draggable', 'z_index_offset', 'rise_offset', 'rise_on_hover', 'alt', 'opacity', 'clickable', 'title'], title='PIGEON HOUSE CR AT CAMERON VILLAGE AT RALEIGH, NC'), Marker(location=[35.81694444, -78.5930556], options=['keyboard', 'draggable', 'z_index_offset', 'rise_offset', 'rise_on_hover', 'alt', 'opacity', 'clickable', 'title'], title='MARSH CREEK NEAR NEW HOPE, NC'), Marker(location=[35.78, -78.66638889], options=['keyboard', 'draggable', 'z_index_offset', 'rise_offset', 'rise_on_hover', 'alt', 'opacity', 'clickable', 'title'], title='ROCKY BRANCH BELOW PULLEN DRIVE AT RALEIGH, NC'), Marker(location=[35.7583333, -78.5830556], options=['keyboard', 'draggable', 'z_index_offset', 'rise_offset', 'rise_on_hover', 'alt', 'opacity', 'clickable', 'title'], title='WALNUT CREEK AT SUNNYBROOK DRIVE NR RALEIGH, NC'), Marker(location=[35.6472222, -78.4052778], options=['keyboard', 'draggable', 'z_index_offset', 'rise_offset', 'rise_on_hover', 'alt', 'opacity', 'clickable', 'title'], title='NEUSE RIVER NEAR CLAYTON, NC'), Marker(location=[35.5125, -78.3494444], options=['keyboard', 'draggable', 'z_index_offset', 'rise_offset', 'rise_on_hover', 'alt', 'opacity', 'clickable', 'title'], title='NEUSE RIVER AT SMITHFIELD, NC'), Marker(location=[35.71888889, -78.7522222], options=['keyboard', 'draggable', 'z_index_offset', 'rise_offset', 'rise_on_hover', 'alt', 'opacity', 'clickable', 'title'], title='SWIFT CREEK NEAR APEX, NC'), Marker(location=[35.693611100000005, -78.6922222], options=['keyboard', 'draggable', 'z_index_offset', 'rise_offset', 'rise_on_hover', 'alt', 'opacity', 'clickable', 'title'], title='SWIFT CREEK NEAR MCCULLARS CROSSROADS, NC'), Marker(location=[35.575, -78.49861109999999], options=['keyboard', 'draggable', 'z_index_offset', 'rise_offset', 'rise_on_hover', 'alt', 'opacity', 'clickable', 'title'], title='SWIFT CREEK AT SR1555 NEAR CLAYTON, NC'), Marker(location=[35.5708333, -78.5905556], options=['keyboard', 'draggable', 'z_index_offset', 'rise_offset', 'rise_on_hover', 'alt', 'opacity', 'clickable', 'title'], title='MIDDLE CREEK NEAR CLAYTON, NC'), Marker(location=[35.82194444, -78.3522222], options=['keyboard', 'draggable', 'z_index_offset', 'rise_offset', 'rise_on_hover', 'alt', 'opacity', 'clickable', 'title'], title='LITTLE RIVER NEAR ZEBULON, NC'), Marker(location=[35.51138889, -78.16027779999999], options=['keyboard', 'draggable', 'z_index_offset', 'rise_offset', 'rise_on_hover', 'alt', 'opacity', 'clickable', 'title'], title='LITTLE RIVER NEAR PRINCETON, NC'), Marker(location=[35.3375, -77.9975], options=['keyboard', 'draggable', 'z_index_offset', 'rise_offset', 'rise_on_hover', 'alt', 'opacity', 'clickable', 'title'], title='NEUSE RIVER NEAR GOLDSBORO, NC'), Marker(location=[35.25777778, -77.58555559999999], options=['keyboard', 'draggable', 'z_index_offset', 'rise_offset', 'rise_on_hover', 'alt', 'opacity', 'clickable', 'title'], title='NEUSE RIVER AT KINSTON, NC'), Marker(location=[35.6911111, -78.10972220000001], options=['keyboard', 'draggable', 'z_index_offset', 'rise_offset', 'rise_on_hover', 'alt', 'opacity', 'clickable', 'title'], title='CONTENTNEA CREEK NEAR LUCAMA, NC'), Marker(location=[35.48888889, -77.8061111], options=['keyboard', 'draggable', 'z_index_offset', 'rise_offset', 'rise_on_hover', 'alt', 'opacity', 'clickable', 'title'], title='NAHUNTA SWAMP NEAR SHINE, NC'), Marker(location=[35.42888889, -77.5825], options=['keyboard', 'draggable', 'z_index_offset', 'rise_offset', 'rise_on_hover', 'alt', 'opacity', 'clickable', 'title'], title='CONTENTNEA CREEK AT HOOKERTON, NC'), Marker(location=[35.31388889, -77.30277778], options=['keyboard', 'draggable', 'z_index_offset', 'rise_offset', 'rise_on_hover', 'alt', 'opacity', 'clickable', 'title'], title='NEUSE RIVER NEAR FORT BARNWELL, NC'), Marker(location=[35.2308333, -77.11388889], options=['keyboard', 'draggable', 'z_index_offset', 'rise_offset', 'rise_on_hover', 'alt', 'opacity', 'clickable', 'title'], title='SWIFT CREEK AT HWY 43 NR STREETS FERRY, NC'), Marker(location=[35.06416667, -77.46138889], options=['keyboard', 'draggable', 'z_index_offset', 'rise_offset', 'rise_on_hover', 'alt', 'opacity', 'clickable', 'title'], title='TRENT RIVER NEAR TRENTON, NC'), Marker(location=[35.01, -77.21888889], options=['keyboard', 'draggable', 'z_index_offset', 'rise_offset', 'rise_on_hover', 'alt', 'opacity', 'clickable', 'title'], title='TRENT R AT POLLOCKSVILLE, NC'), Marker(location=[34.84916667, -77.5194444], options=['keyboard', 'draggable', 'z_index_offset', 'rise_offset', 'rise_on_hover', 'alt', 'opacity', 'clickable', 'title'], title='NEW RIVER NEAR GUM BRANCH, NC'), Marker(location=[36.1725, -79.95277779999999], options=['keyboard', 'draggable', 'z_index_offset', 'rise_offset', 'rise_on_hover', 'alt', 'opacity', 'clickable', 'title'], title='REEDY FORK NEAR OAK RIDGE, NC'), Marker(location=[36.12805556, -79.92388889], options=['keyboard', 'draggable', 'z_index_offset', 'rise_offset', 'rise_on_hover', 'alt', 'opacity', 'clickable', 'title'], title='BRUSH CREEK AT MUIRFIELD RD AT GREENSBORO, NC'), Marker(location=[36.13777778, -79.86], options=['keyboard', 'draggable', 'z_index_offset', 'rise_offset', 'rise_on_hover', 'alt', 'opacity', 'clickable', 'title'], title='HORSEPEN CREEK AT US 220 NR GREENSBORO, NC'), Marker(location=[36.17305556, -79.6141667], options=['keyboard', 'draggable', 'z_index_offset', 'rise_offset', 'rise_on_hover', 'alt', 'opacity', 'clickable', 'title'], title='REEDY FORK NEAR GIBSONVILLE, NC'), Marker(location=[36.04944444, -79.8552778], options=['keyboard', 'draggable', 'z_index_offset', 'rise_offset', 'rise_on_hover', 'alt', 'opacity', 'clickable', 'title'], title='SOUTH BUFFALO CREEK NR POMONA, NC'), Marker(location=[36.03805556, -79.7997222], options=['keyboard', 'draggable', 'z_index_offset', 'rise_offset', 'rise_on_hover', 'alt', 'opacity', 'clickable', 'title'], title='SOUTH BUFFALO CREEK AT US 220 AT GREENSBORO, NC'), Marker(location=[36.031111100000004, -79.79611109999999], options=['keyboard', 'draggable', 'z_index_offset', 'rise_offset', 'rise_on_hover', 'alt', 'opacity', 'clickable', 'title'], title='RYAN CREEK BELOW US 220 AT GREENSBORO, NC'), Marker(location=[36.06, -79.7258333], options=['keyboard', 'draggable', 'z_index_offset', 'rise_offset', 'rise_on_hover', 'alt', 'opacity', 'clickable', 'title'], title='SOUTH BUFFALO CR NEAR GREENSBORO, NC'), Marker(location=[36.07916667, -79.81277779999999], options=['keyboard', 'draggable', 'z_index_offset', 'rise_offset', 'rise_on_hover', 'alt', 'opacity', 'clickable', 'title'], title='N BUFFALO CR AT WESTOVER TERRACE AT GREENSBORO, NC'), Marker(location=[36.09777778, -79.7825], options=['keyboard', 'draggable', 'z_index_offset', 'rise_offset', 'rise_on_hover', 'alt', 'opacity', 'clickable', 'title'], title='NORTH BUFFALO CREEK AT CHURCH ST AT GREENSBORO, NC'), Marker(location=[36.12055556, -79.7080556], options=['keyboard', 'draggable', 'z_index_offset', 'rise_offset', 'rise_on_hover', 'alt', 'opacity', 'clickable', 'title'], title='NORTH BUFFALO CREEK NEAR GREENSBORO, NC'), Marker(location=[36.12805556, -79.6616667], options=['keyboard', 'draggable', 'z_index_offset', 'rise_offset', 'rise_on_hover', 'alt', 'opacity', 'clickable', 'title'], title='BUFFALO CREEK AT SR2819 NR MCLEANSVILLE, NC'), Marker(location=[36.0872222, -79.3661111], options=['keyboard', 'draggable', 'z_index_offset', 'rise_offset', 'rise_on_hover', 'alt', 'opacity', 'clickable', 'title'], title='HAW RIVER AT HAW RIVER, NC'), Marker(location=[35.9872222, -79.20611109999999], options=['keyboard', 'draggable', 'z_index_offset', 'rise_offset', 'rise_on_hover', 'alt', 'opacity', 'clickable', 'title'], title='CANE CREEK NEAR ORANGE GROVE, NC'), Marker(location=[35.76527778, -79.1358333], options=['keyboard', 'draggable', 'z_index_offset', 'rise_offset', 'rise_on_hover', 'alt', 'opacity', 'clickable', 'title'], title='HAW RIVER NEAR BYNUM, NC'), Marker(location=[35.9832222, -78.9568056], options=['keyboard', 'draggable', 'z_index_offset', 'rise_offset', 'rise_on_hover', 'alt', 'opacity', 'clickable', 'title'], title='SANDY CREEK AT CORNWALLIS RD NEAR DURHAM, NC'), Marker(location=[35.92263889, -78.9524167], options=['keyboard', 'draggable', 'z_index_offset', 'rise_offset', 'rise_on_hover', 'alt', 'opacity', 'clickable', 'title'], title='THIRD FORK CR AT WOODCROFT PARKWAY NR BLANDS, NC'), Marker(location=[35.885, -78.9652778], options=['keyboard', 'draggable', 'z_index_offset', 'rise_offset', 'rise_on_hover', 'alt', 'opacity', 'clickable', 'title'], title='NEW HOPE CREEK NEAR BLANDS, NC'), Marker(location=[35.92230556, -79.066], options=['keyboard', 'draggable', 'z_index_offset', 'rise_offset', 'rise_on_hover', 'alt', 'opacity', 'clickable', 'title'], title='BOLIN CREEK AT VILLAGE DRIVE AT CHAPEL HILL, NC'), Marker(location=[35.8722222, -78.91305559999999], options=['keyboard', 'draggable', 'z_index_offset', 'rise_offset', 'rise_on_hover', 'alt', 'opacity', 'clickable', 'title'], title='NORTHEAST CREEK AT SR1100 NR GENLEE, NC'), Marker(location=[35.9236111, -79.115], options=['keyboard', 'draggable', 'z_index_offset', 'rise_offset', 'rise_on_hover', 'alt', 'opacity', 'clickable', 'title'], title='MORGAN CREEK NEAR WHITE CROSS, NC'), Marker(location=[35.8933333, -79.0197222], options=['keyboard', 'draggable', 'z_index_offset', 'rise_offset', 'rise_on_hover', 'alt', 'opacity', 'clickable', 'title'], title='MORGAN CREEK NEAR CHAPEL HILL, NC'), Marker(location=[35.76027778, -78.9202778], options=['keyboard', 'draggable', 'z_index_offset', 'rise_offset', 'rise_on_hover', 'alt', 'opacity', 'clickable', 'title'], title='WHITE OAK CR AT MOUTH NEAR GREEN LEVEL, NC'), Marker(location=[35.6322222, -79.06], options=['keyboard', 'draggable', 'z_index_offset', 'rise_offset', 'rise_on_hover', 'alt', 'opacity', 'clickable', 'title'], title='HAW RIVER NEAR MONCURE, NC'), Marker(location=[36.0372222, -79.94555559999999], options=['keyboard', 'draggable', 'z_index_offset', 'rise_offset', 'rise_on_hover', 'alt', 'opacity', 'clickable', 'title'], title='EAST FORK DEEP RIVER NEAR HIGH POINT, NC'), Marker(location=[35.72638889, -79.6555556], options=['keyboard', 'draggable', 'z_index_offset', 'rise_offset', 'rise_on_hover', 'alt', 'opacity', 'clickable', 'title'], title='DEEP RIVER AT RAMSEUR, NC'), Marker(location=[35.80694444, -79.5275], options=['keyboard', 'draggable', 'z_index_offset', 'rise_offset', 'rise_on_hover', 'alt', 'opacity', 'clickable', 'title'], title='ROCKY R AT SR1300 NR CRUTCHFIELD CROSSROADS, NC'), Marker(location=[35.73514055, -79.4230754], options=['keyboard', 'draggable', 'z_index_offset', 'rise_offset', 'rise_on_hover', 'alt', 'opacity', 'clickable', 'title'], title='ROCKY R AT US 64 NEAR SILER CITY, NC'), Marker(location=[35.6597222, -79.4016667], options=['keyboard', 'draggable', 'z_index_offset', 'rise_offset', 'rise_on_hover', 'alt', 'opacity', 'clickable', 'title'], title='TICK CREEK NEAR MOUNT VERNON SPRINGS, NC'), Marker(location=[35.62694444, -79.1161111], options=['keyboard', 'draggable', 'z_index_offset', 'rise_offset', 'rise_on_hover', 'alt', 'opacity', 'clickable', 'title'], title='DEEP RIVER AT MONCURE, NC'), Marker(location=[35.5597222, -78.97361109999999], options=['keyboard', 'draggable', 'z_index_offset', 'rise_offset', 'rise_on_hover', 'alt', 'opacity', 'clickable', 'title'], title='BUCKHORN CREEK NR CORINTH, NC'), Marker(location=[35.406111100000004, -78.8133333], options=['keyboard', 'draggable', 'z_index_offset', 'rise_offset', 'rise_on_hover', 'alt', 'opacity', 'clickable', 'title'], title='CAPE FEAR RIVER AT LILLINGTON, NC'), Marker(location=[35.18277778, -79.1775], options=['keyboard', 'draggable', 'z_index_offset', 'rise_offset', 'rise_on_hover', 'alt', 'opacity', 'clickable', 'title'], title='FLAT CREEK NEAR INVERNESS, NC'), Marker(location=[35.1933333, -78.9855556], options=['keyboard', 'draggable', 'z_index_offset', 'rise_offset', 'rise_on_hover', 'alt', 'opacity', 'clickable', 'title'], title='LITTLE RIVER AT MANCHESTER, NC'), Marker(location=[35.0472222, -78.8580556], options=['keyboard', 'draggable', 'z_index_offset', 'rise_offset', 'rise_on_hover', 'alt', 'opacity', 'clickable', 'title'], title='CAPE FEAR RIVER AT FAYETTEVILLE, NC'), Marker(location=[34.9997222, -79.21472220000001], options=['keyboard', 'draggable', 'z_index_offset', 'rise_offset', 'rise_on_hover', 'alt', 'opacity', 'clickable', 'title'], title='ROCKFISH CREEK AT RAEFORD, NC'), Marker(location=[34.83555556, -78.8236111], options=['keyboard', 'draggable', 'z_index_offset', 'rise_offset', 'rise_on_hover', 'alt', 'opacity', 'clickable', 'title'], title='CAPE FEAR R AT WILM O HUSKE LOCK NR TARHEEL, NC'), Marker(location=[34.40444444, -78.29361109999999], options=['keyboard', 'draggable', 'z_index_offset', 'rise_offset', 'rise_on_hover', 'alt', 'opacity', 'clickable', 'title'], title='CAPE FEAR R AT LOCK #1 NR KELLY, NC'), Marker(location=[34.755, -78.2886111], options=['keyboard', 'draggable', 'z_index_offset', 'rise_offset', 'rise_on_hover', 'alt', 'opacity', 'clickable', 'title'], title='BLACK RIVER NEAR TOMAHAWK, NC'), Marker(location=[34.82888889, -77.8322222], options=['keyboard', 'draggable', 'z_index_offset', 'rise_offset', 'rise_on_hover', 'alt', 'opacity', 'clickable', 'title'], title='NORTHEAST CAPE FEAR RIVER NEAR CHINQUAPIN, NC'), Marker(location=[34.5983333, -77.87527779999999], options=['keyboard', 'draggable', 'z_index_offset', 'rise_offset', 'rise_on_hover', 'alt', 'opacity', 'clickable', 'title'], title='NORTHEAST CAPE FEAR R NR BURGAW, NC'), Marker(location=[34.095, -78.5483333], options=['keyboard', 'draggable', 'z_index_offset', 'rise_offset', 'rise_on_hover', 'alt', 'opacity', 'clickable', 'title'], title='WACCAMAW RIVER AT FREELAND, NC'), Marker(location=[35.9908333, -81.5583333], options=['keyboard', 'draggable', 'z_index_offset', 'rise_offset', 'rise_on_hover', 'alt', 'opacity', 'clickable', 'title'], title='YADKIN RIVER AT PATTERSON, NC'), Marker(location=[36.07138889, -81.4030556], options=['keyboard', 'draggable', 'z_index_offset', 'rise_offset', 'rise_on_hover', 'alt', 'opacity', 'clickable', 'title'], title='ELK CREEK AT ELKVILLE, NC'), Marker(location=[36.1361111, -81.2233333], options=['keyboard', 'draggable', 'z_index_offset', 'rise_offset', 'rise_on_hover', 'alt', 'opacity', 'clickable', 'title'], title='YADKIN RIVER BL W KERR SCOTT DAM NEAR BUCK, NC'), Marker(location=[36.175, -81.16888889], options=['keyboard', 'draggable', 'z_index_offset', 'rise_offset', 'rise_on_hover', 'alt', 'opacity', 'clickable', 'title'], title='REDDIES RIVER AT NORTH WILKESBORO, NC'), Marker(location=[36.1525, -81.1455556], options=['keyboard', 'draggable', 'z_index_offset', 'rise_offset', 'rise_on_hover', 'alt', 'opacity', 'clickable', 'title'], title='YADKIN RIVER AT WILKESBORO, NC'), Marker(location=[36.24041944, -80.84916109999999], options=['keyboard', 'draggable', 'z_index_offset', 'rise_offset', 'rise_on_hover', 'alt', 'opacity', 'clickable', 'title'], title='YADKIN RIVER AT ELKIN, NC'), Marker(location=[36.40444444, -80.5616667], options=['keyboard', 'draggable', 'z_index_offset', 'rise_offset', 'rise_on_hover', 'alt', 'opacity', 'clickable', 'title'], title='ARARAT RIVER AT ARARAT, NC'), Marker(location=[36.29916667, -80.4147222], options=['keyboard', 'draggable', 'z_index_offset', 'rise_offset', 'rise_on_hover', 'alt', 'opacity', 'clickable', 'title'], title='LITTLE YADKIN RIVER AT DALTON, NC'), Marker(location=[36.13166667, -80.44388889], options=['keyboard', 'draggable', 'z_index_offset', 'rise_offset', 'rise_on_hover', 'alt', 'opacity', 'clickable', 'title'], title='YADKIN RIVER AT ENON, NC'), Marker(location=[35.85666667, -80.3869444], options=['keyboard', 'draggable', 'z_index_offset', 'rise_offset', 'rise_on_hover', 'alt', 'opacity', 'clickable', 'title'], title='YADKIN RIVER AT YADKIN COLLEGE, NC'), Marker(location=[35.845, -80.65888889], options=['keyboard', 'draggable', 'z_index_offset', 'rise_offset', 'rise_on_hover', 'alt', 'opacity', 'clickable', 'title'], title='SOUTH YADKIN RIVER NEAR MOCKSVILLE, NC'), Marker(location=[36.00055556, -80.7455556], options=['keyboard', 'draggable', 'z_index_offset', 'rise_offset', 'rise_on_hover', 'alt', 'opacity', 'clickable', 'title'], title='HUNTING CREEK NEAR HARMONY, NC'), Marker(location=[35.717608299999995, -80.596075], options=['keyboard', 'draggable', 'z_index_offset', 'rise_offset', 'rise_on_hover', 'alt', 'opacity', 'clickable', 'title'], title='SECOND CREEK NEAR BARBER, NC'), Marker(location=[35.80694444, -80.23472220000001], options=['keyboard', 'draggable', 'z_index_offset', 'rise_offset', 'rise_on_hover', 'alt', 'opacity', 'clickable', 'title'], title='ABBOTTS CREEK AT LEXINGTON, NC'), Marker(location=[35.20066667, -80.0618056], options=['keyboard', 'draggable', 'z_index_offset', 'rise_offset', 'rise_on_hover', 'alt', 'opacity', 'clickable', 'title'], title='PEE DEE R AT HWY731 BL LK TILLERY NR NORWOOD, NC'), Marker(location=[35.46777778, -80.7902778], options=['keyboard', 'draggable', 'z_index_offset', 'rise_offset', 'rise_on_hover', 'alt', 'opacity', 'clickable', 'title'], title='W. BR ROCKY R B MTH OF S PRONG R NR CORNELIUS, NC'), Marker(location=[35.41416667, -80.7519444], options=['keyboard', 'draggable', 'z_index_offset', 'rise_offset', 'rise_on_hover', 'alt', 'opacity', 'clickable', 'title'], title='CLARKE CREEK NEAR HARRISBURG, NC'), Marker(location=[35.33277778, -80.7158333], options=['keyboard', 'draggable', 'z_index_offset', 'rise_offset', 'rise_on_hover', 'alt', 'opacity', 'clickable', 'title'], title='MALLARD CR BL STONY CR NR HARRISBURG, NC'), Marker(location=[35.50388889, -80.73638889], options=['keyboard', 'draggable', 'z_index_offset', 'rise_offset', 'rise_on_hover', 'alt', 'opacity', 'clickable', 'title'], title='CODDLE CR AT SR 1612 NEAR DAVIDSON, NC'), Marker(location=[35.30916667, -80.67361109999999], options=['keyboard', 'draggable', 'z_index_offset', 'rise_offset', 'rise_on_hover', 'alt', 'opacity', 'clickable', 'title'], title='BACK CR AT SR1173 NEAR HARRISBURG, NC'), Marker(location=[35.25638889, -80.7005556], options=['keyboard', 'draggable', 'z_index_offset', 'rise_offset', 'rise_on_hover', 'alt', 'opacity', 'clickable', 'title'], title='REEDY CREEK AT SR 2803 NR CHARLOTTE, NC'), Marker(location=[35.2586111, -80.66277779999999], options=['keyboard', 'draggable', 'z_index_offset', 'rise_offset', 'rise_on_hover', 'alt', 'opacity', 'clickable', 'title'], title='REEDY CREEK BELOW I-485 NR PINE RIDGE, NC'), Marker(location=[35.25388889, -80.64805559999999], options=['keyboard', 'draggable', 'z_index_offset', 'rise_offset', 'rise_on_hover', 'alt', 'opacity', 'clickable', 'title'], title='MCKEE CREEK AT SR2804 NR WILGROVE, NC'), Marker(location=[35.32166667, -80.5408333], options=['keyboard', 'draggable', 'z_index_offset', 'rise_offset', 'rise_on_hover', 'alt', 'opacity', 'clickable', 'title'], title='ROCKY R AB IRISH BUFFALO CR NR ROCKY RIVER, NC'), Marker(location=[35.2083333, -80.58], options=['keyboard', 'draggable', 'z_index_offset', 'rise_offset', 'rise_on_hover', 'alt', 'opacity', 'clickable', 'title'], title='CLEAR CREEK AT SR3181 NR MINT HILL, NC'), Marker(location=[35.130423799999996, -80.6311791], options=['keyboard', 'draggable', 'z_index_offset', 'rise_offset', 'rise_on_hover', 'alt', 'opacity', 'clickable', 'title'], title='GOOSE CR AT SR1524 NEAR INDIAN TRAIL, NC'), Marker(location=[35.125, -80.6027778], options=['keyboard', 'draggable', 'z_index_offset', 'rise_offset', 'rise_on_hover', 'alt', 'opacity', 'clickable', 'title'], title='GOOSE CREEK AT SR1525 NR INDIAN TRAIL, NC'), Marker(location=[35.14888889, -80.1758333], options=['keyboard', 'draggable', 'z_index_offset', 'rise_offset', 'rise_on_hover', 'alt', 'opacity', 'clickable', 'title'], title='ROCKY RIVER NEAR NORWOOD, NC'), Marker(location=[35.387222200000004, -79.83138889], options=['keyboard', 'draggable', 'z_index_offset', 'rise_offset', 'rise_on_hover', 'alt', 'opacity', 'clickable', 'title'], title='LITTLE RIVER NEAR STAR, NC'), Marker(location=[34.9458333, -79.86972220000001], options=['keyboard', 'draggable', 'z_index_offset', 'rise_offset', 'rise_on_hover', 'alt', 'opacity', 'clickable', 'title'], title='PEE DEE R NR ROCKINGHAM, NC'), Marker(location=[34.75055556, -79.3866667], options=['keyboard', 'draggable', 'z_index_offset', 'rise_offset', 'rise_on_hover', 'alt', 'opacity', 'clickable', 'title'], title='BIG SHOE HEEL CREEK NR LAURINBURG, NC'), Marker(location=[35.061111100000005, -79.49388889], options=['keyboard', 'draggable', 'z_index_offset', 'rise_offset', 'rise_on_hover', 'alt', 'opacity', 'clickable', 'title'], title='DROWNING CREEK NEAR HOFFMAN, NC'), Marker(location=[34.77277778, -79.3319444], options=['keyboard', 'draggable', 'z_index_offset', 'rise_offset', 'rise_on_hover', 'alt', 'opacity', 'clickable', 'title'], title='LUMBER RIVER NEAR MAXTON, NC'), Marker(location=[34.62027778, -79.0111111], options=['keyboard', 'draggable', 'z_index_offset', 'rise_offset', 'rise_on_hover', 'alt', 'opacity', 'clickable', 'title'], title='LUMBER RIVER AT LUMBERTON, NC'), Marker(location=[34.71027778, -78.83638889], options=['keyboard', 'draggable', 'z_index_offset', 'rise_offset', 'rise_on_hover', 'alt', 'opacity', 'clickable', 'title'], title='BIG SWAMP NR TAR HEEL, NC'), Marker(location=[34.4425, -78.9602778], options=['keyboard', 'draggable', 'z_index_offset', 'rise_offset', 'rise_on_hover', 'alt', 'opacity', 'clickable', 'title'], title='LUMBER RIVER AT BOARDMAN, NC'), Marker(location=[35.6858333, -82.0602778], options=['keyboard', 'draggable', 'z_index_offset', 'rise_offset', 'rise_on_hover', 'alt', 'opacity', 'clickable', 'title'], title='CATAWBA R NR PLEASANT GARDENS, NC'), Marker(location=[35.79555556, -81.89111109999999], options=['keyboard', 'draggable', 'z_index_offset', 'rise_offset', 'rise_on_hover', 'alt', 'opacity', 'clickable', 'title'], title='LINVILLE RIVER NEAR NEBO, NC'), Marker(location=[35.7403611, -81.8346667], options=['keyboard', 'draggable', 'z_index_offset', 'rise_offset', 'rise_on_hover', 'alt', 'opacity', 'clickable', 'title'], title='CATAWBA R AT SR1223 BL LK JAMES NR BRIDGEWATER, NC'), Marker(location=[35.734486100000005, -81.887375], options=['keyboard', 'draggable', 'z_index_offset', 'rise_offset', 'rise_on_hover', 'alt', 'opacity', 'clickable', 'title'], title='OLD CATAWBA R BL CATAWBA DAM NEAR BRIDGEWATER, NC'), Marker(location=[35.833611100000006, -81.71194440000001], options=['keyboard', 'draggable', 'z_index_offset', 'rise_offset', 'rise_on_hover', 'alt', 'opacity', 'clickable', 'title'], title='JOHNS RIVER AT ARNEYS STORE, NC'), Marker(location=[35.77262778, -81.4306556], options=['keyboard', 'draggable', 'z_index_offset', 'rise_offset', 'rise_on_hover', 'alt', 'opacity', 'clickable', 'title'], title='CATAWBA RIVER AT RHODHISS, NC'), Marker(location=[35.94555556, -81.2369444], options=['keyboard', 'draggable', 'z_index_offset', 'rise_offset', 'rise_on_hover', 'alt', 'opacity', 'clickable', 'title'], title='LOWER LITTLE RIVER NR ALL HEALING SPRINGS, NC'), Marker(location=[35.40694444, -80.8905556], options=['keyboard', 'draggable', 'z_index_offset', 'rise_offset', 'rise_on_hover', 'alt', 'opacity', 'clickable', 'title'], title='MCDOWELL CREEK NR HUNTERSVILLE, NC'), Marker(location=[35.403611100000006, -80.8827778], options=['keyboard', 'draggable', 'z_index_offset', 'rise_offset', 'rise_on_hover', 'alt', 'opacity', 'clickable', 'title'], title='TORRENCE CR AT BRADFORD HILL LN NR HUNTERSVLLE, NC'), Marker(location=[35.4018111, -80.9177194], options=['keyboard', 'draggable', 'z_index_offset', 'rise_offset', 'rise_on_hover', 'alt', 'opacity', 'clickable', 'title'], title='MCDOWELL CR TRIB AT SR2131 NR HICKS CROSSROADS, NC'), Marker(location=[35.38971389, -80.921], options=['keyboard', 'draggable', 'z_index_offset', 'rise_offset', 'rise_on_hover', 'alt', 'opacity', 'clickable', 'title'], title='MCDOWELL CREEK NR CHARLOTTE, NC (CSW10)'), Marker(location=[35.36138889, -80.8975], options=['keyboard', 'draggable', 'z_index_offset', 'rise_offset', 'rise_on_hover', 'alt', 'opacity', 'clickable', 'title'], title='GAR CREEK AT SR2074 NR CROFT, NC'), Marker(location=[35.43416667, -81.03], options=['keyboard', 'draggable', 'z_index_offset', 'rise_offset', 'rise_on_hover', 'alt', 'opacity', 'clickable', 'title'], title='KILLIAN CREEK NEAR MARIPOSA, NC'), Marker(location=[35.3286111, -80.9097222], options=['keyboard', 'draggable', 'z_index_offset', 'rise_offset', 'rise_on_hover', 'alt', 'opacity', 'clickable', 'title'], title='LONG CREEK NEAR PAW CREEK, NC'), Marker(location=[35.29944444, -80.94638889], options=['keyboard', 'draggable', 'z_index_offset', 'rise_offset', 'rise_on_hover', 'alt', 'opacity', 'clickable', 'title'], title='GUM BRANCH NEAR THRIFT, NC'), Marker(location=[35.30055556, -80.97277779999999], options=['keyboard', 'draggable', 'z_index_offset', 'rise_offset', 'rise_on_hover', 'alt', 'opacity', 'clickable', 'title'], title='LONG CREEK NR RHYNE, NC'), Marker(location=[35.24027778, -80.9744444], options=['keyboard', 'draggable', 'z_index_offset', 'rise_offset', 'rise_on_hover', 'alt', 'opacity', 'clickable', 'title'], title='PAW CR AT WILKINSON BLVD NR CHARLOTTE, NC'), Marker(location=[35.1697222, -80.98777779999999], options=['keyboard', 'draggable', 'z_index_offset', 'rise_offset', 'rise_on_hover', 'alt', 'opacity', 'clickable', 'title'], title='BEAVERDAM CREEK AB WINDY GAP ROAD NR SHOPTON, NC'), Marker(location=[35.68444444, -81.4033333], options=['keyboard', 'draggable', 'z_index_offset', 'rise_offset', 'rise_on_hover', 'alt', 'opacity', 'clickable', 'title'], title='HENRY FORK NEAR HENRY RIVER, NC'), Marker(location=[35.59055556, -81.5669444], options=['keyboard', 'draggable', 'z_index_offset', 'rise_offset', 'rise_on_hover', 'alt', 'opacity', 'clickable', 'title'], title='JACOB FORK AT RAMSEY, NC'), Marker(location=[35.42055556, -81.26527779999999], options=['keyboard', 'draggable', 'z_index_offset', 'rise_offset', 'rise_on_hover', 'alt', 'opacity', 'clickable', 'title'], title='INDIAN CREEK NEAR LABORATORY, NC'), Marker(location=[35.30638889, -81.23472220000001], options=['keyboard', 'draggable', 'z_index_offset', 'rise_offset', 'rise_on_hover', 'alt', 'opacity', 'clickable', 'title'], title='LONG CREEK NEAR BESSEMER CITY, NC'), Marker(location=[35.28527778, -81.1011111], options=['keyboard', 'draggable', 'z_index_offset', 'rise_offset', 'rise_on_hover', 'alt', 'opacity', 'clickable', 'title'], title='SOUTH FORK CATAWBA RIVER AT LOWELL, NC'), Marker(location=[35.26194444, -80.83694440000001], options=['keyboard', 'draggable', 'z_index_offset', 'rise_offset', 'rise_on_hover', 'alt', 'opacity', 'clickable', 'title'], title='IRWIN CR AT STATESVILLE AVE AT CHARLOTTE, NC'), Marker(location=[35.24027778, -80.8683333], options=['keyboard', 'draggable', 'z_index_offset', 'rise_offset', 'rise_on_hover', 'alt', 'opacity', 'clickable', 'title'], title='STEWART CREEK AT STATE ST AT CHARLOTTE, NC'), Marker(location=[35.228333299999996, -80.86916670000001], options=['keyboard', 'draggable', 'z_index_offset', 'rise_offset', 'rise_on_hover', 'alt', 'opacity', 'clickable', 'title'], title='STEWART CREEK AT WEST MOREHEAD ST AT CHARLOTTE, NC'), Marker(location=[35.19777778, -80.9044444], options=['keyboard', 'draggable', 'z_index_offset', 'rise_offset', 'rise_on_hover', 'alt', 'opacity', 'clickable', 'title'], title='IRWIN CREEK NEAR CHARLOTTE, NC'), Marker(location=[35.20666667, -80.9219444], options=['keyboard', 'draggable', 'z_index_offset', 'rise_offset', 'rise_on_hover', 'alt', 'opacity', 'clickable', 'title'], title='TAGGART CREEK AT WEST BOULEVARD NR CHARLOTTE, NC'), Marker(location=[35.1458333, -80.9269444], options=['keyboard', 'draggable', 'z_index_offset', 'rise_offset', 'rise_on_hover', 'alt', 'opacity', 'clickable', 'title'], title='COFFEY CREEK NR CHARLOTTE, NC'), Marker(location=[35.0908333, -80.89944440000001], options=['keyboard', 'draggable', 'z_index_offset', 'rise_offset', 'rise_on_hover', 'alt', 'opacity', 'clickable', 'title'], title='SUGAR CREEK AT NC 51 NEAR PINEVILLE, NC'), Marker(location=[35.2036111, -80.83694440000001], options=['keyboard', 'draggable', 'z_index_offset', 'rise_offset', 'rise_on_hover', 'alt', 'opacity', 'clickable', 'title'], title='LTL SUGAR CR AT MEDICAL CENTER DR AT CHARLOTTE, NC'), Marker(location=[35.2361111, -80.77111109999998], options=['keyboard', 'draggable', 'z_index_offset', 'rise_offset', 'rise_on_hover', 'alt', 'opacity', 'clickable', 'title'], title='BRIAR CREEK NEAR CHARLOTTE, NC'), Marker(location=[35.2033333, -80.7722222], options=['keyboard', 'draggable', 'z_index_offset', 'rise_offset', 'rise_on_hover', 'alt', 'opacity', 'clickable', 'title'], title='EDWARDS BRANCH AT SHEFFIELD DR AT CHARLOTTE, NC'), Marker(location=[35.17527778, -80.8308333], options=['keyboard', 'draggable', 'z_index_offset', 'rise_offset', 'rise_on_hover', 'alt', 'opacity', 'clickable', 'title'], title='BRIAR CR ABOVE COLONY RD AT CHARLOTTE, NC'), Marker(location=[35.16888889, -80.8308333], options=['keyboard', 'draggable', 'z_index_offset', 'rise_offset', 'rise_on_hover', 'alt', 'opacity', 'clickable', 'title'], title='TRIB TO BRIAR CREEK AT COLONY RD AT CHARLOTTE, NC'), Marker(location=[35.16694444, -80.8366667], options=['keyboard', 'draggable', 'z_index_offset', 'rise_offset', 'rise_on_hover', 'alt', 'opacity', 'clickable', 'title'], title='TRIB TO BRIAR CR AT RUNNYMEDE LN AT CHARLOTTE, NC'), Marker(location=[35.16444444, -80.8530556], options=['keyboard', 'draggable', 'z_index_offset', 'rise_offset', 'rise_on_hover', 'alt', 'opacity', 'clickable', 'title'], title='LITTLE HOPE CR AT SENECA PLACE AT CHARLOTTE, NC'), Marker(location=[35.14805556, -80.8577778], options=['keyboard', 'draggable', 'z_index_offset', 'rise_offset', 'rise_on_hover', 'alt', 'opacity', 'clickable', 'title'], title='LITTLE SUGAR C AT ARCHDALE DR AT CHARLOTTE, NC'), Marker(location=[35.08527778, -80.8822222], options=['keyboard', 'draggable', 'z_index_offset', 'rise_offset', 'rise_on_hover', 'alt', 'opacity', 'clickable', 'title'], title='LITTLE SUGAR CREEK AT PINEVILLE, NC'), Marker(location=[35.1758333, -80.7191667], options=['keyboard', 'draggable', 'z_index_offset', 'rise_offset', 'rise_on_hover', 'alt', 'opacity', 'clickable', 'title'], title='MCALPINE CREEK AT SR3150 NR IDLEWILD, NC'), Marker(location=[35.18666667, -80.7366667], options=['keyboard', 'draggable', 'z_index_offset', 'rise_offset', 'rise_on_hover', 'alt', 'opacity', 'clickable', 'title'], title='CAMPBELL CREEK NR CHARLOTTE, NC'), Marker(location=[35.1586111, -80.7133333], options=['keyboard', 'draggable', 'z_index_offset', 'rise_offset', 'rise_on_hover', 'alt', 'opacity', 'clickable', 'title'], title='IRVINS CREEK AT SR3168 NR CHARLOTTE, NC'), Marker(location=[35.13777778, -80.7675], options=['keyboard', 'draggable', 'z_index_offset', 'rise_offset', 'rise_on_hover', 'alt', 'opacity', 'clickable', 'title'], title='MCALPINE CR AT SARDIS ROAD NEAR CHARLOTTE, NC'), Marker(location=[35.07694444, -80.8225], options=['keyboard', 'draggable', 'z_index_offset', 'rise_offset', 'rise_on_hover', 'alt', 'opacity', 'clickable', 'title'], title='FOUR MILE CREEK NEAR PINEVILLE, NC'), Marker(location=[35.1408333, -80.82], options=['keyboard', 'draggable', 'z_index_offset', 'rise_offset', 'rise_on_hover', 'alt', 'opacity', 'clickable', 'title'], title='MCMULLEN CR AT SHARON VIEW RD NEAR CHARLOTTE, NC'), Marker(location=[35.0664972, -80.86985], options=['keyboard', 'draggable', 'z_index_offset', 'rise_offset', 'rise_on_hover', 'alt', 'opacity', 'clickable', 'title'], title='MCALPINE CR BELOW MCMULLEN CR NR PINEVILLE, NC'), Marker(location=[35.105, -80.95361109999999], options=['keyboard', 'draggable', 'z_index_offset', 'rise_offset', 'rise_on_hover', 'alt', 'opacity', 'clickable', 'title'], title='STEELE CREEK AT SR1441 NR PINEVILLE, NC'), Marker(location=[35.01035556, -80.8285417], options=['keyboard', 'draggable', 'z_index_offset', 'rise_offset', 'rise_on_hover', 'alt', 'opacity', 'clickable', 'title'], title='SIX MILE CREEK NEAR PINEVILLE, NC'), Marker(location=[35.423333299999996, -82.1116667], options=['keyboard', 'draggable', 'z_index_offset', 'rise_offset', 'rise_on_hover', 'alt', 'opacity', 'clickable', 'title'], title='COVE CREEK NEAR LAKE LURE, NC'), Marker(location=[35.40444444, -81.8725], options=['keyboard', 'draggable', 'z_index_offset', 'rise_offset', 'rise_on_hover', 'alt', 'opacity', 'clickable', 'title'], title='SECOND BROAD RIVER NR LOGAN, NC'), Marker(location=[35.2108333, -81.6975], options=['keyboard', 'draggable', 'z_index_offset', 'rise_offset', 'rise_on_hover', 'alt', 'opacity', 'clickable', 'title'], title='BROAD RIVER NEAR BOILING SPRINGS, NC'), Marker(location=[35.49305556, -81.68222220000001], options=['keyboard', 'draggable', 'z_index_offset', 'rise_offset', 'rise_on_hover', 'alt', 'opacity', 'clickable', 'title'], title='FIRST BROAD RIVER NEAR CASAR, NC'), Marker(location=[35.41527778, -81.5616667], options=['keyboard', 'draggable', 'z_index_offset', 'rise_offset', 'rise_on_hover', 'alt', 'opacity', 'clickable', 'title'], title='FIRST BROAD RIVER AT LAWNDALE, NC'), Marker(location=[36.3933333, -81.4069444], options=['keyboard', 'draggable', 'z_index_offset', 'rise_offset', 'rise_on_hover', 'alt', 'opacity', 'clickable', 'title'], title='SOUTH FORK NEW RIVER NEAR JEFFERSON, NC'), Marker(location=[35.1433333, -82.82472220000001], options=['keyboard', 'draggable', 'z_index_offset', 'rise_offset', 'rise_on_hover', 'alt', 'opacity', 'clickable', 'title'], title='FRENCH BROAD RIVER AT ROSMAN, NC'), Marker(location=[35.27305556, -82.7058333], options=['keyboard', 'draggable', 'z_index_offset', 'rise_offset', 'rise_on_hover', 'alt', 'opacity', 'clickable', 'title'], title='DAVIDSON RIVER NEAR BREVARD, NC'), Marker(location=[35.29916667, -82.62388889], options=['keyboard', 'draggable', 'z_index_offset', 'rise_offset', 'rise_on_hover', 'alt', 'opacity', 'clickable', 'title'], title='FRENCH BROAD RIVER AT BLANTYRE, NC'), Marker(location=[35.39805556, -82.595], options=['keyboard', 'draggable', 'z_index_offset', 'rise_offset', 'rise_on_hover', 'alt', 'opacity', 'clickable', 'title'], title='MILLS RIVER NEAR MILLS RIVER, NC'), Marker(location=[35.42916667, -82.5525], options=['keyboard', 'draggable', 'z_index_offset', 'rise_offset', 'rise_on_hover', 'alt', 'opacity', 'clickable', 'title'], title='FRENCH BROAD RIVER NEAR FLETCHER, NC'), Marker(location=[35.68527778, -82.33277779999999], options=['keyboard', 'draggable', 'z_index_offset', 'rise_offset', 'rise_on_hover', 'alt', 'opacity', 'clickable', 'title'], title='NORTH FORK SWANNANOA RIVER NEAR WALKERTOWN, NC'), Marker(location=[35.65305556, -82.4052778], options=['keyboard', 'draggable', 'z_index_offset', 'rise_offset', 'rise_on_hover', 'alt', 'opacity', 'clickable', 'title'], title='BEETREE CREEK NEAR SWANNANOA, NC'), Marker(location=[35.5683333, -82.54472220000001], options=['keyboard', 'draggable', 'z_index_offset', 'rise_offset', 'rise_on_hover', 'alt', 'opacity', 'clickable', 'title'], title='SWANNANOA RIVER AT BILTMORE, NC'), Marker(location=[35.60888889, -82.5780556], options=['keyboard', 'draggable', 'z_index_offset', 'rise_offset', 'rise_on_hover', 'alt', 'opacity', 'clickable', 'title'], title='FRENCH BROAD RIVER AT ASHEVILLE, NC'), Marker(location=[35.769722200000004, -82.6208333], options=['keyboard', 'draggable', 'z_index_offset', 'rise_offset', 'rise_on_hover', 'alt', 'opacity', 'clickable', 'title'], title='IVY RIVER NEAR MARSHALL, NC'), Marker(location=[35.78638889, -82.6608333], options=['keyboard', 'draggable', 'z_index_offset', 'rise_offset', 'rise_on_hover', 'alt', 'opacity', 'clickable', 'title'], title='FRENCH BROAD RIVER AT MARSHALL, NC'), Marker(location=[35.88991667, -82.821], options=['keyboard', 'draggable', 'z_index_offset', 'rise_offset', 'rise_on_hover', 'alt', 'opacity', 'clickable', 'title'], title='FRENCH BROAD RIVER AT HOT SPRINGS, NC'), Marker(location=[35.396111100000006, -82.9375], options=['keyboard', 'draggable', 'z_index_offset', 'rise_offset', 'rise_on_hover', 'alt', 'opacity', 'clickable', 'title'], title='W F PIGEON R ABOVE LAKE LOGAN NR HAZELWOOD, NC'), Marker(location=[35.42666667, -82.91972220000001], options=['keyboard', 'draggable', 'z_index_offset', 'rise_offset', 'rise_on_hover', 'alt', 'opacity', 'clickable', 'title'], title='WEST FORK PIGEON RIVER NEAR RETREAT, NC'), Marker(location=[35.46388889, -82.9], options=['keyboard', 'draggable', 'z_index_offset', 'rise_offset', 'rise_on_hover', 'alt', 'opacity', 'clickable', 'title'], title='WEST FORK PIGEON RIVER AT BETHEL, NC'), Marker(location=[35.46166667, -82.86972220000001], options=['keyboard', 'draggable', 'z_index_offset', 'rise_offset', 'rise_on_hover', 'alt', 'opacity', 'clickable', 'title'], title='EAST FORK PIGEON RIVER NEAR CANTON, NC'), Marker(location=[35.52194444, -82.8480556], options=['keyboard', 'draggable', 'z_index_offset', 'rise_offset', 'rise_on_hover', 'alt', 'opacity', 'clickable', 'title'], title='PIGEON RIVER NEAR CANTON, NC'), Marker(location=[35.635, -82.99], options=['keyboard', 'draggable', 'z_index_offset', 'rise_offset', 'rise_on_hover', 'alt', 'opacity', 'clickable', 'title'], title='PIGEON RIVER NEAR HEPCO, NC'), Marker(location=[35.6672222, -83.0727778], options=['keyboard', 'draggable', 'z_index_offset', 'rise_offset', 'rise_on_hover', 'alt', 'opacity', 'clickable', 'title'], title='CATALOOCHEE CREEK NEAR CATALOOCHEE, NC'), Marker(location=[35.7836111, -83.1119444], options=['keyboard', 'draggable', 'z_index_offset', 'rise_offset', 'rise_on_hover', 'alt', 'opacity', 'clickable', 'title'], title='PIGEON R BL POWER PLANT NR WATERVILLE, NC'), Marker(location=[35.83138889, -82.1841667], options=['keyboard', 'draggable', 'z_index_offset', 'rise_offset', 'rise_on_hover', 'alt', 'opacity', 'clickable', 'title'], title='SOUTH TOE RIVER NEAR CELO, NC'), Marker(location=[36.23916667, -81.82222220000001], options=['keyboard', 'draggable', 'z_index_offset', 'rise_offset', 'rise_on_hover', 'alt', 'opacity', 'clickable', 'title'], title='WATAUGA RIVER NEAR SUGAR GROVE, NC'), Marker(location=[35.15, -83.3797222], options=['keyboard', 'draggable', 'z_index_offset', 'rise_offset', 'rise_on_hover', 'alt', 'opacity', 'clickable', 'title'], title='LITTLE TENNESSEE RIVER NEAR PRENTISS, NC'), Marker(location=[35.15888889, -83.3941667], options=['keyboard', 'draggable', 'z_index_offset', 'rise_offset', 'rise_on_hover', 'alt', 'opacity', 'clickable', 'title'], title='CARTOOGECHAYE CREEK NEAR FRANKLIN, NC'), Marker(location=[35.2328611, -83.39147220000001], options=['keyboard', 'draggable', 'z_index_offset', 'rise_offset', 'rise_on_hover', 'alt', 'opacity', 'clickable', 'title'], title='LITTLE TENNESSEE RIVER AB NC HWY 28 AT IOTLA, NC'), Marker(location=[35.33638889, -83.5269444], options=['keyboard', 'draggable', 'z_index_offset', 'rise_offset', 'rise_on_hover', 'alt', 'opacity', 'clickable', 'title'], title='LITTLE TENNESSEE RIVER AT NEEDMORE, NC'), Marker(location=[35.1275, -83.6186111], options=['keyboard', 'draggable', 'z_index_offset', 'rise_offset', 'rise_on_hover', 'alt', 'opacity', 'clickable', 'title'], title='NANTAHALA RIVER NEAR RAINBOW SPRINGS, NC'), Marker(location=[35.305, -83.65222220000001], options=['keyboard', 'draggable', 'z_index_offset', 'rise_offset', 'rise_on_hover', 'alt', 'opacity', 'clickable', 'title'], title='NANTAHALA RIVER NEAR HEWITT, NC'), Marker(location=[35.28777778, -83.14388889], options=['keyboard', 'draggable', 'z_index_offset', 'rise_offset', 'rise_on_hover', 'alt', 'opacity', 'clickable', 'title'], title='TUCKASEGEE RIVER AT SR 1172 NR CULLOWHEE, NC'), Marker(location=[35.38444444, -83.29166670000001], options=['keyboard', 'draggable', 'z_index_offset', 'rise_offset', 'rise_on_hover', 'alt', 'opacity', 'clickable', 'title'], title=\"TUCKASEGEE RIVER AT BARKER'S CREEK, NC\"), Marker(location=[35.46138889, -83.3536111], options=['keyboard', 'draggable', 'z_index_offset', 'rise_offset', 'rise_on_hover', 'alt', 'opacity', 'clickable', 'title'], title='OCONALUFTEE RIVER AT BIRDTOWN, NC'), Marker(location=[35.4275, -83.4469444], options=['keyboard', 'draggable', 'z_index_offset', 'rise_offset', 'rise_on_hover', 'alt', 'opacity', 'clickable', 'title'], title='TUCKASEGEE RIVER AT BRYSON CITY, NC'), Marker(location=[35.4383333, -83.91888889], options=['keyboard', 'draggable', 'z_index_offset', 'rise_offset', 'rise_on_hover', 'alt', 'opacity', 'clickable', 'title'], title='CHEOAH RIVER NR BEARPEN GAP NR TAPOCO, NC'), Marker(location=[35.13888889, -83.9805556], options=['keyboard', 'draggable', 'z_index_offset', 'rise_offset', 'rise_on_hover', 'alt', 'opacity', 'clickable', 'title'], title='VALLEY RIVER AT TOMOTLA, NC')), layout=Layout(align_self='stretch', height='400px'), options=['max_zoom', 'keyboard', 'center', 'zoom_control', 'keyboard_zoom_offset', 'basemap', 'dragging', 'keyboard_pan_offset', 'inertia', 'world_copy_jump', 'box_zoom', 'scroll_wheel_zoom', 'zoom_animation_threshold', 'zoom_start', 'double_click_zoom', 'inertia_max_speed', 'attribution_control', 'touch_zoom', 'zoom', 'bounce_at_zoom_limits', 'close_popup_on_click', 'min_zoom', 'tap', 'inertia_deceleration', 'tap_tolerance'], zoom=8)"
      ]
     },
     "metadata": {},
     "output_type": "display_data"
    }
   ],
   "source": [
    "center = [36, -80]\n",
    "zoom = 8\n",
    "\n",
    "m = Map(default_tiles=TileLayer(opacity=1.0), center=center, zoom=zoom)\n",
    "\n",
    "for lat,lng,name in df[['dec_lat_va','dec_long_va','station_nm']].values:\n",
    "    mark = Marker(location=(lat,lng))\n",
    "    mark.visible\n",
    "    mark.title = name\n",
    "    m += mark\n",
    "\n",
    "m"
   ]
  }
 ],
 "metadata": {
  "kernelspec": {
   "display_name": "Python 3",
   "language": "python",
   "name": "python3"
  },
  "language_info": {
   "codemirror_mode": {
    "name": "ipython",
    "version": 3
   },
   "file_extension": ".py",
   "mimetype": "text/x-python",
   "name": "python",
   "nbconvert_exporter": "python",
   "pygments_lexer": "ipython3",
   "version": "3.5.4"
  }
 },
 "nbformat": 4,
 "nbformat_minor": 2
}
