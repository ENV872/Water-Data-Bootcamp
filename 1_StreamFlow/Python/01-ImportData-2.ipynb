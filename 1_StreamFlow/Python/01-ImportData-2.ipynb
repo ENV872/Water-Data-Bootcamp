{
 "cells": [
  {
   "cell_type": "markdown",
   "metadata": {},
   "source": [
    "# Import Data - 2 \n",
    "In this example we see the power of scripting over Excel in that, once we have code for one site, it's fairly easy to repeat the code for many sites."
   ]
  },
  {
   "cell_type": "code",
   "execution_count": null,
   "metadata": {},
   "outputs": [],
   "source": [
    "#Import libraries\n",
    "import requests, io\n",
    "import pandas as pd\n",
    "import numpy as np\n",
    "import ipyleaflet as lf"
   ]
  },
  {
   "cell_type": "code",
   "execution_count": null,
   "metadata": {},
   "outputs": [],
   "source": [
    "#Generate a list of all sites in NC using the NWIS API \n",
    "# see https://waterservices.usgs.gov/rest/DV-Service.html\n",
    "url = 'http://waterservices.usgs.gov/nwis/site'\n",
    "params = {'stateCd':'NC',        #NC Sites Only\n",
    "          'siteStatus':'all',    #Get all(active and inactive) sites\n",
    "          'siteType':'ST',       #Stream sites only\n",
    "          'parameterCd':'00060', #DISCHARGE(cfs), see https://help.waterdata.usgs.gov/codes-and-parameters/parameters\n",
    "          'format':'rdb'         #RDB (csv)\n",
    "         }"
   ]
  },
  {
   "cell_type": "code",
   "execution_count": null,
   "metadata": {},
   "outputs": [],
   "source": [
    "#Send the requests and translate the response\n",
    "response_raw = requests.get(url,params)"
   ]
  },
  {
   "cell_type": "code",
   "execution_count": null,
   "metadata": {},
   "outputs": [],
   "source": [
    "#Decode to remove any odd characters (accents, etc.)\n",
    "response_clean = response_raw.content.decode('utf-8')"
   ]
  },
  {
   "cell_type": "code",
   "execution_count": null,
   "metadata": {},
   "outputs": [],
   "source": [
    "#Build a list of line numbers to skip from comments and data types\n",
    "rowsToSkip= [] #Create an empty list to hold line numbers\n",
    "lineNumber = 0 #Initialize a line number variable\n",
    "#Iterate through lines, adding the line number to the list for comment lines\n",
    "for lineNumber, lineString in enumerate(response_clean.split(\"\\n\")):\n",
    "    if lineString.startswith('#'): \n",
    "        rowsToSkip.append(lineNumber)\n",
    "    else:\n",
    "        break\n",
    "#Add another line 2 greater than the last\n",
    "dataTypeLineNumber = rowsToSkip[-1] + 2\n",
    "rowsToSkip.append(dataTypeLineNumber)"
   ]
  },
  {
   "cell_type": "code",
   "execution_count": null,
   "metadata": {},
   "outputs": [],
   "source": [
    "#Convert the data into a data frame\n",
    "df = pd.read_csv(io.StringIO(response_clean),\n",
    "                 skiprows=rowsToSkip,     #Skip metadta and data spec lines\n",
    "                 delimiter='\\t',          #Set to tab delimited\n",
    "                 dtype={'site_no':'str'}) #Set site_no to a string datatype\n",
    "#Print the number of returned sites\n",
    "df.head()"
   ]
  },
  {
   "cell_type": "code",
   "execution_count": null,
   "metadata": {},
   "outputs": [],
   "source": [
    "#Rename the last two fields\n",
    "df.rename(columns={'85235_00060_00003':'MeanFlow_cfs','85235_00060_00003_cd':'Confidence'},inplace=True)\n",
    "df.head()"
   ]
  },
  {
   "cell_type": "code",
   "execution_count": null,
   "metadata": {},
   "outputs": [],
   "source": [
    "df.dtypes"
   ]
  },
  {
   "cell_type": "code",
   "execution_count": null,
   "metadata": {},
   "outputs": [],
   "source": [
    "#Save to a csv file\n",
    "df.to_csv('GageData.csv',index=False)"
   ]
  },
  {
   "cell_type": "code",
   "execution_count": null,
   "metadata": {},
   "outputs": [],
   "source": []
  }
 ],
 "metadata": {
  "kernelspec": {
   "display_name": "Python 3",
   "language": "python",
   "name": "python3"
  },
  "language_info": {
   "codemirror_mode": {
    "name": "ipython",
    "version": 3
   },
   "file_extension": ".py",
   "mimetype": "text/x-python",
   "name": "python",
   "nbconvert_exporter": "python",
   "pygments_lexer": "ipython3",
   "version": "3.5.4"
  }
 },
 "nbformat": 4,
 "nbformat_minor": 2
}
