{
 "cells": [
  {
   "cell_type": "code",
   "execution_count": 1,
   "metadata": {
    "collapsed": true
   },
   "outputs": [],
   "source": [
    "#Import modules\n",
    "import pandas as pd\n",
    "import numpy as np\n",
    "import matplotlib.pyplot as plt\n",
    "import seaborn as sns"
   ]
  },
  {
   "cell_type": "code",
   "execution_count": 2,
   "metadata": {
    "collapsed": true
   },
   "outputs": [],
   "source": [
    "#Enable inline plots\n",
    "%matplotlib inline"
   ]
  },
  {
   "cell_type": "code",
   "execution_count": 3,
   "metadata": {
    "collapsed": true
   },
   "outputs": [],
   "source": [
    "#Import the streamflow data CSV and format columns\n",
    "df=pd.read_csv('GageData.csv',dtype={'site_no':'str'},parse_dates=['datetime'])"
   ]
  },
  {
   "cell_type": "code",
   "execution_count": 4,
   "metadata": {
    "collapsed": true
   },
   "outputs": [],
   "source": [
    "#Add year, month, and water_year columns\n",
    "df['year'] = df['datetime'].map(lambda x: x.year)\n",
    "df['month'] = df['datetime'].map(lambda x: x.month)\n",
    "df['water_year'] = df['datetime'].apply(lambda x: x.year if x.month >= 10 else x.year - 1)"
   ]
  },
  {
   "cell_type": "code",
   "execution_count": 5,
   "metadata": {
    "collapsed": true
   },
   "outputs": [],
   "source": [
    "#Compute flow in cms\n",
    "df['MeanFlow_cms'] = df['MeanFlow_cfs'] * 0.028316847 "
   ]
  },
  {
   "cell_type": "code",
   "execution_count": 6,
   "metadata": {
    "collapsed": true
   },
   "outputs": [],
   "source": [
    "#Set the index to full date\n",
    "df.index = df.datetime"
   ]
  },
  {
   "cell_type": "code",
   "execution_count": 7,
   "metadata": {
    "collapsed": true
   },
   "outputs": [],
   "source": [
    "#Create data slices for pre- and post-Falls Lake\n",
    "dfPre = df[:'1980-01-01']\n",
    "dfPost = df['1983-12-31':]"
   ]
  },
  {
   "cell_type": "markdown",
   "metadata": {},
   "source": [
    "### Compute max annual flow\n",
    "Compute max annual flow from our daily flow data"
   ]
  },
  {
   "cell_type": "code",
   "execution_count": 8,
   "metadata": {},
   "outputs": [
    {
     "data": {
      "text/html": [
       "<div>\n",
       "<style>\n",
       "    .dataframe thead tr:only-child th {\n",
       "        text-align: right;\n",
       "    }\n",
       "\n",
       "    .dataframe thead th {\n",
       "        text-align: left;\n",
       "    }\n",
       "\n",
       "    .dataframe tbody tr th {\n",
       "        vertical-align: top;\n",
       "    }\n",
       "</style>\n",
       "<table border=\"1\" class=\"dataframe\">\n",
       "  <thead>\n",
       "    <tr style=\"text-align: right;\">\n",
       "      <th></th>\n",
       "      <th>agency_cd</th>\n",
       "      <th>site_no</th>\n",
       "      <th>datetime</th>\n",
       "      <th>MeanFlow_cfs</th>\n",
       "      <th>Confidence</th>\n",
       "      <th>year</th>\n",
       "      <th>month</th>\n",
       "      <th>water_year</th>\n",
       "      <th>MeanFlow_cms</th>\n",
       "    </tr>\n",
       "    <tr>\n",
       "      <th>datetime</th>\n",
       "      <th></th>\n",
       "      <th></th>\n",
       "      <th></th>\n",
       "      <th></th>\n",
       "      <th></th>\n",
       "      <th></th>\n",
       "      <th></th>\n",
       "      <th></th>\n",
       "      <th></th>\n",
       "    </tr>\n",
       "  </thead>\n",
       "  <tbody>\n",
       "    <tr>\n",
       "      <th>1945-09-19</th>\n",
       "      <td>USGS</td>\n",
       "      <td>02087500</td>\n",
       "      <td>1945-09-19</td>\n",
       "      <td>22500.0</td>\n",
       "      <td>A</td>\n",
       "      <td>1945</td>\n",
       "      <td>9</td>\n",
       "      <td>1944</td>\n",
       "      <td>637.129057</td>\n",
       "    </tr>\n",
       "    <tr>\n",
       "      <th>1945-09-18</th>\n",
       "      <td>USGS</td>\n",
       "      <td>02087500</td>\n",
       "      <td>1945-09-18</td>\n",
       "      <td>19800.0</td>\n",
       "      <td>A</td>\n",
       "      <td>1945</td>\n",
       "      <td>9</td>\n",
       "      <td>1944</td>\n",
       "      <td>560.673571</td>\n",
       "    </tr>\n",
       "    <tr>\n",
       "      <th>1999-09-17</th>\n",
       "      <td>USGS</td>\n",
       "      <td>02087500</td>\n",
       "      <td>1999-09-17</td>\n",
       "      <td>19700.0</td>\n",
       "      <td>A</td>\n",
       "      <td>1999</td>\n",
       "      <td>9</td>\n",
       "      <td>1998</td>\n",
       "      <td>557.841886</td>\n",
       "    </tr>\n",
       "    <tr>\n",
       "      <th>1945-09-20</th>\n",
       "      <td>USGS</td>\n",
       "      <td>02087500</td>\n",
       "      <td>1945-09-20</td>\n",
       "      <td>19600.0</td>\n",
       "      <td>A</td>\n",
       "      <td>1945</td>\n",
       "      <td>9</td>\n",
       "      <td>1944</td>\n",
       "      <td>555.010201</td>\n",
       "    </tr>\n",
       "    <tr>\n",
       "      <th>1996-09-07</th>\n",
       "      <td>USGS</td>\n",
       "      <td>02087500</td>\n",
       "      <td>1996-09-07</td>\n",
       "      <td>18900.0</td>\n",
       "      <td>A</td>\n",
       "      <td>1996</td>\n",
       "      <td>9</td>\n",
       "      <td>1995</td>\n",
       "      <td>535.188408</td>\n",
       "    </tr>\n",
       "  </tbody>\n",
       "</table>\n",
       "</div>"
      ],
      "text/plain": [
       "           agency_cd   site_no   datetime  MeanFlow_cfs Confidence  year  \\\n",
       "datetime                                                                   \n",
       "1945-09-19      USGS  02087500 1945-09-19       22500.0          A  1945   \n",
       "1945-09-18      USGS  02087500 1945-09-18       19800.0          A  1945   \n",
       "1999-09-17      USGS  02087500 1999-09-17       19700.0          A  1999   \n",
       "1945-09-20      USGS  02087500 1945-09-20       19600.0          A  1945   \n",
       "1996-09-07      USGS  02087500 1996-09-07       18900.0          A  1996   \n",
       "\n",
       "            month  water_year  MeanFlow_cms  \n",
       "datetime                                     \n",
       "1945-09-19      9        1944    637.129057  \n",
       "1945-09-18      9        1944    560.673571  \n",
       "1999-09-17      9        1998    557.841886  \n",
       "1945-09-20      9        1944    555.010201  \n",
       "1996-09-07      9        1995    535.188408  "
      ]
     },
     "execution_count": 8,
     "metadata": {},
     "output_type": "execute_result"
    }
   ],
   "source": [
    "df.sort_values(by='MeanFlow_cms',ascending=False).head()"
   ]
  },
  {
   "cell_type": "code",
   "execution_count": 31,
   "metadata": {},
   "outputs": [],
   "source": [
    "#Group data on water_year\n",
    "byYear = df.groupby('water_year')\n",
    "dfMaxAnnual = byYear['MeanFlow_cms'].max()\n",
    "#dfMaxAnnual.head()"
   ]
  },
  {
   "cell_type": "code",
   "execution_count": 11,
   "metadata": {},
   "outputs": [],
   "source": [
    "#Covert to a dataframe\n",
    "dfMA = pd.DataFrame(dfMaxAnnual)\n",
    "#dfMA.head()"
   ]
  },
  {
   "cell_type": "code",
   "execution_count": 12,
   "metadata": {},
   "outputs": [],
   "source": [
    "### Compute rankings\n",
    "dfMA['rank'] = dfMA.rank(ascending=False)\n",
    "dfMA.sort_values(by='MeanFlow_cms',ascending=False,inplace=True)\n",
    "#dfMA.head()"
   ]
  },
  {
   "cell_type": "code",
   "execution_count": 13,
   "metadata": {
    "collapsed": true
   },
   "outputs": [],
   "source": [
    "# Compute Return intervale\n",
    "countRecs = dfMA['rank'].max()\n",
    "dfMA['RI'] = (countRecs + 1) / dfMA['rank']"
   ]
  },
  {
   "cell_type": "code",
   "execution_count": 14,
   "metadata": {},
   "outputs": [],
   "source": [
    "# Compute probability of recurrence (POR)\n",
    "dfMA['Pe'] = 1 / dfMA['RI']\n",
    "#dfMA.head()"
   ]
  },
  {
   "cell_type": "code",
   "execution_count": 15,
   "metadata": {
    "collapsed": true
   },
   "outputs": [
    {
     "name": "stdout",
     "output_type": "stream",
     "text": [
      "y=118.000954x+(128.192589)\n"
     ]
    },
    {
     "data": {
      "image/png": "[encoded data removed]",
      "text/plain": [
       "<matplotlib.figure.Figure at 0x23cebd84550>"
      ]
     },
     "metadata": {},
     "output_type": "display_data"
    }
   ],
   "source": [
    "#Plot and add a trendline\n",
    "x = dfMA['RI']\n",
    "y = dfMA['MeanFlow_cms']\n",
    "\n",
    "logx = np.log(x)\n",
    "\n",
    "#Create the plot objects\n",
    "plt.semilogx(x,y,'o');\n",
    "\n",
    "# calc the trendline\n",
    "z = np.polyfit(logx, y, 1)\n",
    "p = np.poly1d(z)\n",
    "plt.plot(x,p(logx),\"r--\")\n",
    "\n",
    "# the line equation:\n",
    "print (\"y=%.6fx+(%.6f)\"%(z[0],z[1]))\n"
   ]
  },
  {
   "cell_type": "markdown",
   "metadata": {},
   "source": [
    "#### Apply the formula to compute 100, 500, and 1000 year floods"
   ]
  },
  {
   "cell_type": "code",
   "execution_count": 23,
   "metadata": {},
   "outputs": [
    {
     "data": {
      "image/png": "[encoded data removed]",
      "text/plain": [
       "<matplotlib.figure.Figure at 0x23cede98eb8>"
      ]
     },
     "metadata": {},
     "output_type": "display_data"
    }
   ],
   "source": [
    "#https://www.datacamp.com/community/tutorials/matplotlib-tutorial-python\n",
    "fig = plt.figure(figsize=(20,6))\n",
    "ax = fig.add_subplot(111)\n",
    "ax.semilogx(x,y,'o');"
   ]
  },
  {
   "cell_type": "code",
   "execution_count": 27,
   "metadata": {},
   "outputs": [
    {
     "data": {
      "image/png": "[encoded data removed]",
      "text/plain": [
       "<matplotlib.figure.Figure at 0x23cede98eb8>"
      ]
     },
     "execution_count": 27,
     "metadata": {},
     "output_type": "execute_result"
    }
   ],
   "source": []
  },
  {
   "cell_type": "code",
   "execution_count": 30,
   "metadata": {},
   "outputs": [
    {
     "data": {
      "text/plain": [
       "0     11928.288017\n",
       "1     59128.669732\n",
       "2    118129.146875\n",
       "dtype: float64"
      ]
     },
     "execution_count": 30,
     "metadata": {},
     "output_type": "execute_result"
    }
   ],
   "source": [
    "#Create a data frame of the values\n",
    "sFloodYears = pd.Series([100,500,1000])\n",
    "sFloodVals = z[0] * sFloodYears + z[1]\n",
    "sFloodVals"
   ]
  },
  {
   "cell_type": "code",
   "execution_count": 28,
   "metadata": {},
   "outputs": [
    {
     "data": {
      "text/plain": [
       "[<matplotlib.lines.Line2D at 0x23ced9f6c50>]"
      ]
     },
     "execution_count": 28,
     "metadata": {},
     "output_type": "execute_result"
    }
   ],
   "source": [
    "ax2 = fig.add_subplot(111)\n",
    "ax2.semilogx(sFloodYears,sFloodVals,'o')"
   ]
  },
  {
   "cell_type": "code",
   "execution_count": 29,
   "metadata": {},
   "outputs": [
    {
     "data": {
      "image/png": "[encoded data removed]",
      "text/plain": [
       "<matplotlib.figure.Figure at 0x23cede98eb8>"
      ]
     },
     "execution_count": 29,
     "metadata": {},
     "output_type": "execute_result"
    }
   ],
   "source": [
    "fig"
   ]
  }
 ],
 "metadata": {
  "kernelspec": {
   "display_name": "Python 3",
   "language": "python",
   "name": "python3"
  },
  "language_info": {
   "codemirror_mode": {
    "name": "ipython",
    "version": 3
   },
   "file_extension": ".py",
   "mimetype": "text/x-python",
   "name": "python",
   "nbconvert_exporter": "python",
   "pygments_lexer": "ipython3",
   "version": "3.5.4"
  }
 },
 "nbformat": 4,
 "nbformat_minor": 2
}
