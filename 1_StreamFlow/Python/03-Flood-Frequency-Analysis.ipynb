{
 "cells": [
  {
   "cell_type": "code",
   "execution_count": 1,
   "metadata": {
    "collapsed": true
   },
   "outputs": [],
   "source": [
    "#Import modules\n",
    "import pandas as pd\n",
    "import matplotlib.pyplot as plt\n",
    "import seaborn as sns"
   ]
  },
  {
   "cell_type": "code",
   "execution_count": 2,
   "metadata": {
    "collapsed": true
   },
   "outputs": [],
   "source": [
    "#Enable inline plots\n",
    "%matplotlib inline"
   ]
  },
  {
   "cell_type": "code",
   "execution_count": 3,
   "metadata": {
    "collapsed": true
   },
   "outputs": [],
   "source": [
    "#Import the streamflow data CSV and format columns\n",
    "df=pd.read_csv('GageData.csv',dtype={'site_no':'str'},parse_dates=['datetime'])"
   ]
  },
  {
   "cell_type": "code",
   "execution_count": 20,
   "metadata": {
    "collapsed": true
   },
   "outputs": [],
   "source": [
    "#Add year, month, and water_year columns\n",
    "df['year'] = df['datetime'].map(lambda x: x.year)\n",
    "df['month'] = df['datetime'].map(lambda x: x.month)\n",
    "df['water_year'] = df['datetime'].apply(lambda x: x.year if x.month >= 10 else x.year - 1)"
   ]
  },
  {
   "cell_type": "code",
   "execution_count": 5,
   "metadata": {
    "collapsed": true
   },
   "outputs": [],
   "source": [
    "#Compute flow in cms\n",
    "df['MeanFlow_cms'] = df['MeanFlow_cfs'] * 0.028316847 "
   ]
  },
  {
   "cell_type": "code",
   "execution_count": 6,
   "metadata": {
    "collapsed": true
   },
   "outputs": [],
   "source": [
    "#Set the index to full date\n",
    "df.index = df.datetime"
   ]
  },
  {
   "cell_type": "code",
   "execution_count": 7,
   "metadata": {
    "collapsed": true
   },
   "outputs": [],
   "source": [
    "#Create data slices for pre- and post-Falls Lake\n",
    "dfPre = df[:'1980-01-01']\n",
    "dfPost = df['1983-12-31':]"
   ]
  },
  {
   "cell_type": "markdown",
   "metadata": {},
   "source": [
    "### Compute max annual flow\n",
    "Compute max annual flow from our daily flow data"
   ]
  },
  {
   "cell_type": "code",
   "execution_count": 18,
   "metadata": {},
   "outputs": [
    {
     "data": {
      "text/html": [
       "<div>\n",
       "<style>\n",
       "    .dataframe thead tr:only-child th {\n",
       "        text-align: right;\n",
       "    }\n",
       "\n",
       "    .dataframe thead th {\n",
       "        text-align: left;\n",
       "    }\n",
       "\n",
       "    .dataframe tbody tr th {\n",
       "        vertical-align: top;\n",
       "    }\n",
       "</style>\n",
       "<table border=\"1\" class=\"dataframe\">\n",
       "  <thead>\n",
       "    <tr style=\"text-align: right;\">\n",
       "      <th></th>\n",
       "      <th>agency_cd</th>\n",
       "      <th>site_no</th>\n",
       "      <th>datetime</th>\n",
       "      <th>MeanFlow_cfs</th>\n",
       "      <th>Confidence</th>\n",
       "      <th>year</th>\n",
       "      <th>month</th>\n",
       "      <th>MeanFlow_cms</th>\n",
       "    </tr>\n",
       "    <tr>\n",
       "      <th>datetime</th>\n",
       "      <th></th>\n",
       "      <th></th>\n",
       "      <th></th>\n",
       "      <th></th>\n",
       "      <th></th>\n",
       "      <th></th>\n",
       "      <th></th>\n",
       "      <th></th>\n",
       "    </tr>\n",
       "  </thead>\n",
       "  <tbody>\n",
       "    <tr>\n",
       "      <th>1945-09-19</th>\n",
       "      <td>USGS</td>\n",
       "      <td>02087500</td>\n",
       "      <td>1945-09-19</td>\n",
       "      <td>22500.0</td>\n",
       "      <td>A</td>\n",
       "      <td>1945</td>\n",
       "      <td>9</td>\n",
       "      <td>637.129057</td>\n",
       "    </tr>\n",
       "    <tr>\n",
       "      <th>1945-09-18</th>\n",
       "      <td>USGS</td>\n",
       "      <td>02087500</td>\n",
       "      <td>1945-09-18</td>\n",
       "      <td>19800.0</td>\n",
       "      <td>A</td>\n",
       "      <td>1945</td>\n",
       "      <td>9</td>\n",
       "      <td>560.673571</td>\n",
       "    </tr>\n",
       "    <tr>\n",
       "      <th>1999-09-17</th>\n",
       "      <td>USGS</td>\n",
       "      <td>02087500</td>\n",
       "      <td>1999-09-17</td>\n",
       "      <td>19700.0</td>\n",
       "      <td>A</td>\n",
       "      <td>1999</td>\n",
       "      <td>9</td>\n",
       "      <td>557.841886</td>\n",
       "    </tr>\n",
       "    <tr>\n",
       "      <th>1945-09-20</th>\n",
       "      <td>USGS</td>\n",
       "      <td>02087500</td>\n",
       "      <td>1945-09-20</td>\n",
       "      <td>19600.0</td>\n",
       "      <td>A</td>\n",
       "      <td>1945</td>\n",
       "      <td>9</td>\n",
       "      <td>555.010201</td>\n",
       "    </tr>\n",
       "    <tr>\n",
       "      <th>1996-09-07</th>\n",
       "      <td>USGS</td>\n",
       "      <td>02087500</td>\n",
       "      <td>1996-09-07</td>\n",
       "      <td>18900.0</td>\n",
       "      <td>A</td>\n",
       "      <td>1996</td>\n",
       "      <td>9</td>\n",
       "      <td>535.188408</td>\n",
       "    </tr>\n",
       "  </tbody>\n",
       "</table>\n",
       "</div>"
      ],
      "text/plain": [
       "           agency_cd   site_no   datetime  MeanFlow_cfs Confidence  year  \\\n",
       "datetime                                                                   \n",
       "1945-09-19      USGS  02087500 1945-09-19       22500.0          A  1945   \n",
       "1945-09-18      USGS  02087500 1945-09-18       19800.0          A  1945   \n",
       "1999-09-17      USGS  02087500 1999-09-17       19700.0          A  1999   \n",
       "1945-09-20      USGS  02087500 1945-09-20       19600.0          A  1945   \n",
       "1996-09-07      USGS  02087500 1996-09-07       18900.0          A  1996   \n",
       "\n",
       "            month  MeanFlow_cms  \n",
       "datetime                         \n",
       "1945-09-19      9    637.129057  \n",
       "1945-09-18      9    560.673571  \n",
       "1999-09-17      9    557.841886  \n",
       "1945-09-20      9    555.010201  \n",
       "1996-09-07      9    535.188408  "
      ]
     },
     "execution_count": 18,
     "metadata": {},
     "output_type": "execute_result"
    }
   ],
   "source": [
    "df.sort_values(by='MeanFlow_cms',ascending=False).head()"
   ]
  },
  {
   "cell_type": "code",
   "execution_count": 21,
   "metadata": {},
   "outputs": [
    {
     "data": {
      "text/plain": [
       "water_year\n",
       "1930    300.158578\n",
       "1931    264.762519\n",
       "1932    212.376352\n",
       "1933    237.861515\n",
       "1934    461.564606\n",
       "Name: MeanFlow_cms, dtype: float64"
      ]
     },
     "execution_count": 21,
     "metadata": {},
     "output_type": "execute_result"
    }
   ],
   "source": [
    "#Group data on water_year\n",
    "byYear = df.groupby('water_year')\n",
    "dfMaxAnnual = byYear['MeanFlow_cms'].max()\n",
    "dfMaxAnnual.head()"
   ]
  },
  {
   "cell_type": "code",
   "execution_count": 22,
   "metadata": {
    "collapsed": true
   },
   "outputs": [],
   "source": [
    "#Covert to a dataframe\n",
    "dfMA = pd.DataFrame(dfMaxAnnual)"
   ]
  },
  {
   "cell_type": "code",
   "execution_count": 23,
   "metadata": {},
   "outputs": [
    {
     "data": {
      "text/html": [
       "<div>\n",
       "<style>\n",
       "    .dataframe thead tr:only-child th {\n",
       "        text-align: right;\n",
       "    }\n",
       "\n",
       "    .dataframe thead th {\n",
       "        text-align: left;\n",
       "    }\n",
       "\n",
       "    .dataframe tbody tr th {\n",
       "        vertical-align: top;\n",
       "    }\n",
       "</style>\n",
       "<table border=\"1\" class=\"dataframe\">\n",
       "  <thead>\n",
       "    <tr style=\"text-align: right;\">\n",
       "      <th></th>\n",
       "      <th>MeanFlow_cms</th>\n",
       "    </tr>\n",
       "    <tr>\n",
       "      <th>water_year</th>\n",
       "      <th></th>\n",
       "    </tr>\n",
       "  </thead>\n",
       "  <tbody>\n",
       "    <tr>\n",
       "      <th>1930</th>\n",
       "      <td>300.158578</td>\n",
       "    </tr>\n",
       "    <tr>\n",
       "      <th>1931</th>\n",
       "      <td>264.762519</td>\n",
       "    </tr>\n",
       "    <tr>\n",
       "      <th>1932</th>\n",
       "      <td>212.376352</td>\n",
       "    </tr>\n",
       "    <tr>\n",
       "      <th>1933</th>\n",
       "      <td>237.861515</td>\n",
       "    </tr>\n",
       "    <tr>\n",
       "      <th>1934</th>\n",
       "      <td>461.564606</td>\n",
       "    </tr>\n",
       "  </tbody>\n",
       "</table>\n",
       "</div>"
      ],
      "text/plain": [
       "            MeanFlow_cms\n",
       "water_year              \n",
       "1930          300.158578\n",
       "1931          264.762519\n",
       "1932          212.376352\n",
       "1933          237.861515\n",
       "1934          461.564606"
      ]
     },
     "execution_count": 23,
     "metadata": {},
     "output_type": "execute_result"
    }
   ],
   "source": [
    "dfMA.head()"
   ]
  },
  {
   "cell_type": "code",
   "execution_count": 25,
   "metadata": {},
   "outputs": [
    {
     "data": {
      "text/html": [
       "<div>\n",
       "<style>\n",
       "    .dataframe thead tr:only-child th {\n",
       "        text-align: right;\n",
       "    }\n",
       "\n",
       "    .dataframe thead th {\n",
       "        text-align: left;\n",
       "    }\n",
       "\n",
       "    .dataframe tbody tr th {\n",
       "        vertical-align: top;\n",
       "    }\n",
       "</style>\n",
       "<table border=\"1\" class=\"dataframe\">\n",
       "  <thead>\n",
       "    <tr style=\"text-align: right;\">\n",
       "      <th></th>\n",
       "      <th>MeanFlow_cms</th>\n",
       "      <th>rank</th>\n",
       "    </tr>\n",
       "    <tr>\n",
       "      <th>water_year</th>\n",
       "      <th></th>\n",
       "      <th></th>\n",
       "    </tr>\n",
       "  </thead>\n",
       "  <tbody>\n",
       "    <tr>\n",
       "      <th>1944</th>\n",
       "      <td>637.129057</td>\n",
       "      <td>1.0</td>\n",
       "    </tr>\n",
       "    <tr>\n",
       "      <th>1998</th>\n",
       "      <td>557.841886</td>\n",
       "      <td>2.0</td>\n",
       "    </tr>\n",
       "    <tr>\n",
       "      <th>1995</th>\n",
       "      <td>535.188408</td>\n",
       "      <td>3.0</td>\n",
       "    </tr>\n",
       "    <tr>\n",
       "      <th>2016</th>\n",
       "      <td>532.356724</td>\n",
       "      <td>4.0</td>\n",
       "    </tr>\n",
       "    <tr>\n",
       "      <th>1934</th>\n",
       "      <td>461.564606</td>\n",
       "      <td>5.0</td>\n",
       "    </tr>\n",
       "  </tbody>\n",
       "</table>\n",
       "</div>"
      ],
      "text/plain": [
       "            MeanFlow_cms  rank\n",
       "water_year                    \n",
       "1944          637.129057   1.0\n",
       "1998          557.841886   2.0\n",
       "1995          535.188408   3.0\n",
       "2016          532.356724   4.0\n",
       "1934          461.564606   5.0"
      ]
     },
     "execution_count": 25,
     "metadata": {},
     "output_type": "execute_result"
    }
   ],
   "source": [
    "### Compute rankings\n",
    "dfMA['rank'] = dfMA.rank(ascending=False)\n",
    "dfMA.sort_values(by='MeanFlow_cms',ascending=False,inplace=True)\n",
    "dfMA.head()"
   ]
  },
  {
   "cell_type": "code",
   "execution_count": 36,
   "metadata": {},
   "outputs": [],
   "source": [
    "# Compute Return intervale\n",
    "countRecs = dfMA['rank'].max()\n",
    "dfMA['RI'] = (countRecs + 1) / dfMA['rank']"
   ]
  },
  {
   "cell_type": "code",
   "execution_count": 37,
   "metadata": {},
   "outputs": [
    {
     "data": {
      "text/html": [
       "<div>\n",
       "<style>\n",
       "    .dataframe thead tr:only-child th {\n",
       "        text-align: right;\n",
       "    }\n",
       "\n",
       "    .dataframe thead th {\n",
       "        text-align: left;\n",
       "    }\n",
       "\n",
       "    .dataframe tbody tr th {\n",
       "        vertical-align: top;\n",
       "    }\n",
       "</style>\n",
       "<table border=\"1\" class=\"dataframe\">\n",
       "  <thead>\n",
       "    <tr style=\"text-align: right;\">\n",
       "      <th></th>\n",
       "      <th>MeanFlow_cms</th>\n",
       "      <th>rank</th>\n",
       "      <th>RI</th>\n",
       "      <th>Pe</th>\n",
       "    </tr>\n",
       "    <tr>\n",
       "      <th>water_year</th>\n",
       "      <th></th>\n",
       "      <th></th>\n",
       "      <th></th>\n",
       "      <th></th>\n",
       "    </tr>\n",
       "  </thead>\n",
       "  <tbody>\n",
       "    <tr>\n",
       "      <th>1944</th>\n",
       "      <td>637.129057</td>\n",
       "      <td>1.0</td>\n",
       "      <td>88.000000</td>\n",
       "      <td>0.011364</td>\n",
       "    </tr>\n",
       "    <tr>\n",
       "      <th>1998</th>\n",
       "      <td>557.841886</td>\n",
       "      <td>2.0</td>\n",
       "      <td>44.000000</td>\n",
       "      <td>0.022727</td>\n",
       "    </tr>\n",
       "    <tr>\n",
       "      <th>1995</th>\n",
       "      <td>535.188408</td>\n",
       "      <td>3.0</td>\n",
       "      <td>29.333333</td>\n",
       "      <td>0.034091</td>\n",
       "    </tr>\n",
       "    <tr>\n",
       "      <th>2016</th>\n",
       "      <td>532.356724</td>\n",
       "      <td>4.0</td>\n",
       "      <td>22.000000</td>\n",
       "      <td>0.045455</td>\n",
       "    </tr>\n",
       "    <tr>\n",
       "      <th>1934</th>\n",
       "      <td>461.564606</td>\n",
       "      <td>5.0</td>\n",
       "      <td>17.600000</td>\n",
       "      <td>0.056818</td>\n",
       "    </tr>\n",
       "  </tbody>\n",
       "</table>\n",
       "</div>"
      ],
      "text/plain": [
       "            MeanFlow_cms  rank         RI        Pe\n",
       "water_year                                         \n",
       "1944          637.129057   1.0  88.000000  0.011364\n",
       "1998          557.841886   2.0  44.000000  0.022727\n",
       "1995          535.188408   3.0  29.333333  0.034091\n",
       "2016          532.356724   4.0  22.000000  0.045455\n",
       "1934          461.564606   5.0  17.600000  0.056818"
      ]
     },
     "execution_count": 37,
     "metadata": {},
     "output_type": "execute_result"
    }
   ],
   "source": [
    "# Compute probability of recurrence (POR)\n",
    "dfMA['Pe'] = 1 / dfMA['RI']\n",
    "dfMA.head()"
   ]
  },
  {
   "cell_type": "code",
   "execution_count": null,
   "metadata": {
    "collapsed": true
   },
   "outputs": [],
   "source": [
    "# Plot the data and compute a regressions"
   ]
  }
 ],
 "metadata": {
  "kernelspec": {
   "display_name": "Python 3",
   "language": "python",
   "name": "python3"
  },
  "language_info": {
   "codemirror_mode": {
    "name": "ipython",
    "version": 3
   },
   "file_extension": ".py",
   "mimetype": "text/x-python",
   "name": "python",
   "nbconvert_exporter": "python",
   "pygments_lexer": "ipython3",
   "version": "3.5.3"
  }
 },
 "nbformat": 4,
 "nbformat_minor": 2
}
