{
 "cells": [
  {
   "cell_type": "code",
   "execution_count": 1,
   "metadata": {
    "collapsed": true
   },
   "outputs": [],
   "source": [
    "#Import modules\n",
    "import pandas as pd\n",
    "import numpy as np\n",
    "import matplotlib.pyplot as plt\n",
    "import seaborn as sns\n",
    "from scipy import stats"
   ]
  },
  {
   "cell_type": "code",
   "execution_count": 2,
   "metadata": {
    "collapsed": true
   },
   "outputs": [],
   "source": [
    "#Enable inline plots\n",
    "%matplotlib inline"
   ]
  },
  {
   "cell_type": "code",
   "execution_count": 3,
   "metadata": {
    "collapsed": true
   },
   "outputs": [],
   "source": [
    "#Import the streamflow data CSV and format columns\n",
    "df=pd.read_csv('GageData.csv',dtype={'site_no':'str'},parse_dates=['datetime'])"
   ]
  },
  {
   "cell_type": "code",
   "execution_count": 4,
   "metadata": {
    "collapsed": true
   },
   "outputs": [],
   "source": [
    "#Add year, month, and water_year columns\n",
    "df['year'] = df['datetime'].map(lambda x: x.year)\n",
    "df['month'] = df['datetime'].map(lambda x: x.month)\n",
    "df['water_year'] = df['datetime'].apply(lambda x: x.year if x.month >= 10 else x.year - 1)"
   ]
  },
  {
   "cell_type": "code",
   "execution_count": 5,
   "metadata": {
    "collapsed": true
   },
   "outputs": [],
   "source": [
    "#Compute flow in cms\n",
    "df['MeanFlow_cms'] = df['MeanFlow_cfs'] * 0.028316847 "
   ]
  },
  {
   "cell_type": "code",
   "execution_count": 6,
   "metadata": {
    "collapsed": true
   },
   "outputs": [],
   "source": [
    "#Set the index to full date\n",
    "df.index = df.datetime"
   ]
  },
  {
   "cell_type": "code",
   "execution_count": 7,
   "metadata": {
    "collapsed": true
   },
   "outputs": [],
   "source": [
    "#Create data slices for pre- and post-Falls Lake\n",
    "dfPre = df[:'1980-01-01']\n",
    "dfPost = df['1983-12-31':]"
   ]
  },
  {
   "cell_type": "markdown",
   "metadata": {},
   "source": [
    "### Compute max annual flow\n",
    "Compute max annual flow from our daily flow data"
   ]
  },
  {
   "cell_type": "code",
   "execution_count": 8,
   "metadata": {},
   "outputs": [
    {
     "data": {
      "text/html": [
       "<div>\n",
       "<style>\n",
       "    .dataframe thead tr:only-child th {\n",
       "        text-align: right;\n",
       "    }\n",
       "\n",
       "    .dataframe thead th {\n",
       "        text-align: left;\n",
       "    }\n",
       "\n",
       "    .dataframe tbody tr th {\n",
       "        vertical-align: top;\n",
       "    }\n",
       "</style>\n",
       "<table border=\"1\" class=\"dataframe\">\n",
       "  <thead>\n",
       "    <tr style=\"text-align: right;\">\n",
       "      <th></th>\n",
       "      <th>agency_cd</th>\n",
       "      <th>site_no</th>\n",
       "      <th>datetime</th>\n",
       "      <th>MeanFlow_cfs</th>\n",
       "      <th>Confidence</th>\n",
       "      <th>year</th>\n",
       "      <th>month</th>\n",
       "      <th>water_year</th>\n",
       "      <th>MeanFlow_cms</th>\n",
       "    </tr>\n",
       "    <tr>\n",
       "      <th>datetime</th>\n",
       "      <th></th>\n",
       "      <th></th>\n",
       "      <th></th>\n",
       "      <th></th>\n",
       "      <th></th>\n",
       "      <th></th>\n",
       "      <th></th>\n",
       "      <th></th>\n",
       "      <th></th>\n",
       "    </tr>\n",
       "  </thead>\n",
       "  <tbody>\n",
       "    <tr>\n",
       "      <th>1945-09-19</th>\n",
       "      <td>USGS</td>\n",
       "      <td>02087500</td>\n",
       "      <td>1945-09-19</td>\n",
       "      <td>22500.0</td>\n",
       "      <td>A</td>\n",
       "      <td>1945</td>\n",
       "      <td>9</td>\n",
       "      <td>1944</td>\n",
       "      <td>637.129057</td>\n",
       "    </tr>\n",
       "    <tr>\n",
       "      <th>1945-09-18</th>\n",
       "      <td>USGS</td>\n",
       "      <td>02087500</td>\n",
       "      <td>1945-09-18</td>\n",
       "      <td>19800.0</td>\n",
       "      <td>A</td>\n",
       "      <td>1945</td>\n",
       "      <td>9</td>\n",
       "      <td>1944</td>\n",
       "      <td>560.673571</td>\n",
       "    </tr>\n",
       "    <tr>\n",
       "      <th>1999-09-17</th>\n",
       "      <td>USGS</td>\n",
       "      <td>02087500</td>\n",
       "      <td>1999-09-17</td>\n",
       "      <td>19700.0</td>\n",
       "      <td>A</td>\n",
       "      <td>1999</td>\n",
       "      <td>9</td>\n",
       "      <td>1998</td>\n",
       "      <td>557.841886</td>\n",
       "    </tr>\n",
       "    <tr>\n",
       "      <th>1945-09-20</th>\n",
       "      <td>USGS</td>\n",
       "      <td>02087500</td>\n",
       "      <td>1945-09-20</td>\n",
       "      <td>19600.0</td>\n",
       "      <td>A</td>\n",
       "      <td>1945</td>\n",
       "      <td>9</td>\n",
       "      <td>1944</td>\n",
       "      <td>555.010201</td>\n",
       "    </tr>\n",
       "    <tr>\n",
       "      <th>1996-09-07</th>\n",
       "      <td>USGS</td>\n",
       "      <td>02087500</td>\n",
       "      <td>1996-09-07</td>\n",
       "      <td>18900.0</td>\n",
       "      <td>A</td>\n",
       "      <td>1996</td>\n",
       "      <td>9</td>\n",
       "      <td>1995</td>\n",
       "      <td>535.188408</td>\n",
       "    </tr>\n",
       "  </tbody>\n",
       "</table>\n",
       "</div>"
      ],
      "text/plain": [
       "           agency_cd   site_no   datetime  MeanFlow_cfs Confidence  year  \\\n",
       "datetime                                                                   \n",
       "1945-09-19      USGS  02087500 1945-09-19       22500.0          A  1945   \n",
       "1945-09-18      USGS  02087500 1945-09-18       19800.0          A  1945   \n",
       "1999-09-17      USGS  02087500 1999-09-17       19700.0          A  1999   \n",
       "1945-09-20      USGS  02087500 1945-09-20       19600.0          A  1945   \n",
       "1996-09-07      USGS  02087500 1996-09-07       18900.0          A  1996   \n",
       "\n",
       "            month  water_year  MeanFlow_cms  \n",
       "datetime                                     \n",
       "1945-09-19      9        1944    637.129057  \n",
       "1945-09-18      9        1944    560.673571  \n",
       "1999-09-17      9        1998    557.841886  \n",
       "1945-09-20      9        1944    555.010201  \n",
       "1996-09-07      9        1995    535.188408  "
      ]
     },
     "execution_count": 8,
     "metadata": {},
     "output_type": "execute_result"
    }
   ],
   "source": [
    "df.sort_values(by='MeanFlow_cms',ascending=False).head()"
   ]
  },
  {
   "cell_type": "code",
   "execution_count": 9,
   "metadata": {
    "collapsed": true
   },
   "outputs": [],
   "source": [
    "#Group data on water_year\n",
    "byYear = df.groupby('water_year')\n",
    "dfMaxAnnual = byYear['MeanFlow_cms'].max()\n",
    "dfMaxAnnual.head()"
   ]
  },
  {
   "cell_type": "code",
   "execution_count": 10,
   "metadata": {
    "collapsed": true
   },
   "outputs": [],
   "source": [
    "#Covert to a dataframe\n",
    "dfMA = pd.DataFrame(dfMaxAnnual)\n",
    "dfMA.head()"
   ]
  },
  {
   "cell_type": "code",
   "execution_count": 11,
   "metadata": {
    "collapsed": true
   },
   "outputs": [],
   "source": [
    "### Compute rankings\n",
    "dfMA['rank'] = dfMA.rank(ascending=False)\n",
    "dfMA.sort_values(by='MeanFlow_cms',ascending=False,inplace=True)\n",
    "dfMA.head()"
   ]
  },
  {
   "cell_type": "code",
   "execution_count": 12,
   "metadata": {
    "collapsed": true
   },
   "outputs": [],
   "source": [
    "# Compute Return intervale\n",
    "countRecs = dfMA['rank'].max()\n",
    "dfMA['RI'] = (countRecs + 1) / dfMA['rank']"
   ]
  },
  {
   "cell_type": "code",
   "execution_count": 13,
   "metadata": {
    "collapsed": true
   },
   "outputs": [],
   "source": [
    "# Compute probability of recurrence (POR)\n",
    "dfMA['Pe'] = 1 / dfMA['RI']\n",
    "#dfMA.head()"
   ]
  },
  {
   "cell_type": "code",
   "execution_count": 14,
   "metadata": {
    "collapsed": true
   },
   "outputs": [],
   "source": [
    "#Set variables to plot\n",
    "x = dfMA['RI']\n",
    "y = dfMA['MeanFlow_cms']\n",
    "\n",
    "logx = np.log(x)"
   ]
  },
  {
   "cell_type": "markdown",
   "metadata": {},
   "source": [
    "### Compute the regression using NumPy functions"
   ]
  },
  {
   "cell_type": "code",
   "execution_count": 15,
   "metadata": {},
   "outputs": [
    {
     "name": "stdout",
     "output_type": "stream",
     "text": [
      "118.000954287 128.192588643\n"
     ]
    }
   ],
   "source": [
    "# Compute the slope and intercept using the polyfit\n",
    "regSlope, regIntercept = np.polyfit(np.log(x), y, 1)\n",
    "print(regSlope, regIntercept)"
   ]
  },
  {
   "cell_type": "code",
   "execution_count": 16,
   "metadata": {},
   "outputs": [
    {
     "ename": "NameError",
     "evalue": "name 'slope' is not defined",
     "output_type": "error",
     "traceback": [
      "\u001b[1;31m---------------------------------------------------------------------------\u001b[0m",
      "\u001b[1;31mNameError\u001b[0m                                 Traceback (most recent call last)",
      "\u001b[1;32m<ipython-input-16-74425a45730f>\u001b[0m in \u001b[0;36m<module>\u001b[1;34m()\u001b[0m\n\u001b[0;32m      1\u001b[0m \u001b[1;31m#Convert the regression components into a printable formula\u001b[0m\u001b[1;33m\u001b[0m\u001b[1;33m\u001b[0m\u001b[0m\n\u001b[1;32m----> 2\u001b[1;33m \u001b[0mregText\u001b[0m \u001b[1;33m=\u001b[0m \u001b[1;34m\"y = {0:.1f}x + {1:.1f}\"\u001b[0m\u001b[1;33m.\u001b[0m\u001b[0mformat\u001b[0m\u001b[1;33m(\u001b[0m\u001b[0mslope\u001b[0m\u001b[1;33m,\u001b[0m\u001b[0mintercept\u001b[0m\u001b[1;33m)\u001b[0m\u001b[1;33m\u001b[0m\u001b[0m\n\u001b[0m\u001b[0;32m      3\u001b[0m \u001b[0mprint\u001b[0m\u001b[1;33m(\u001b[0m\u001b[0mregText\u001b[0m\u001b[1;33m)\u001b[0m\u001b[1;33m\u001b[0m\u001b[0m\n",
      "\u001b[1;31mNameError\u001b[0m: name 'slope' is not defined"
     ]
    }
   ],
   "source": [
    "#Convert the regression components into a printable formula\n",
    "regText = \"y = {0:.1f}x + {1:.1f}\".format(slope,intercept)\n",
    "print(regText)"
   ]
  },
  {
   "cell_type": "code",
   "execution_count": null,
   "metadata": {},
   "outputs": [],
   "source": [
    "# Compute p\n",
    "p = np.poly1d(regSlope, regIntercept)\n",
    "print(p.r)"
   ]
  },
  {
   "cell_type": "code",
   "execution_count": null,
   "metadata": {},
   "outputs": [],
   "source": [
    "# Apply the regression to 100, 500, and 1000 year return intervals (x values)\n",
    "\n",
    "#Create a series of the return intervals to compute\n",
    "sFloodRI = pd.Series([100,500,1000],name='FloodRI')\n",
    "\n",
    "#Compute the 30-year probability of exceedence for each return interval\n",
    "sFloodPe30 = 1-(1-(1/sFloodRI))**30\n",
    "\n",
    "#Compute the peak flow associated with those Pe values\n",
    "sFloodPeak_cms = regIntercept * sFloodPe30 + regSlope\n",
    "\n",
    "#Combine into a single dataframe\n",
    "dfFlood = pd.concat([sFloodRI,sFloodPe30,sFloodPeak_cms],axis=1)\n",
    "dfFlood.columns = ['RI','Pe','PeakFlow_cms']\n",
    "dfFlood.head()"
   ]
  },
  {
   "cell_type": "markdown",
   "metadata": {},
   "source": [
    "### Plotting\n",
    "https://seaborn.pydata.org/tutorial/regression.html\n",
    "https://seaborn.pydata.org/generated/seaborn.regplot.html#seaborn.regplot"
   ]
  },
  {
   "cell_type": "code",
   "execution_count": null,
   "metadata": {
    "collapsed": true
   },
   "outputs": [],
   "source": [
    "#Set the style to use Seaborn\n",
    "sns.set(color_codes=True,font_scale=2)"
   ]
  },
  {
   "cell_type": "code",
   "execution_count": null,
   "metadata": {
    "collapsed": true
   },
   "outputs": [],
   "source": [
    "#Create the canvas (fig) and axes (ax) objects, setting the figure size\n",
    "fig, ax = plt.subplots(figsize=(20,6))\n",
    "\n",
    "#Set axis properties\n",
    "ax.set(xlim=(1,1200),\n",
    "       ylim=(0,1200),\n",
    "       xscale =\"log\",\n",
    "       label=regText\n",
    "      )\n",
    "\n",
    "#Plot the data\n",
    "ax = sns.regplot(x='RI',\n",
    "                 y='MeanFlow_cms',\n",
    "                 data=dfMA,\n",
    "                 logx=True,\n",
    "                 fit_reg=True,\n",
    "                 ci=None)\n",
    "\n",
    "#Set the axis labels.\n",
    "ax.set(xlabel='Return Interval (years)', \n",
    "       ylabel='Peak discharge(cms)',\n",
    "       title=regText\n",
    "      )\n",
    "\n",
    "#Compute Peak discharges from 100, 500, and 1000 year intervals\n",
    "for RI in (100,500,1000):\n",
    "    #Compute peak discharge from RI\n",
    "    peakFlow = (np.log(RI) * regSlope) + regIntercept\n",
    "    #Add to the plot\n",
    "    ax.plot(RI,peakFlow,'rs',markersize=8) #'rs' = red square markers"
   ]
  },
  {
   "cell_type": "markdown",
   "metadata": {},
   "source": [
    "## Plot pre vs post Falls Lake 1980 data"
   ]
  },
  {
   "cell_type": "code",
   "execution_count": null,
   "metadata": {},
   "outputs": [],
   "source": [
    "#Set the TimeSet variable to pre or post, using index (i.e. year) values \n",
    "dfMA.loc[dfMA.index < 1980,'TimeSet'] = 'PreFallsLake'\n",
    "dfMA.loc[dfMA.index >= 1984,'TimeSet'] = 'PostFallsLake'"
   ]
  },
  {
   "cell_type": "code",
   "execution_count": null,
   "metadata": {},
   "outputs": [],
   "source": [
    "#Plot multiple frames using Seaborn's FacetGrids\n",
    "\n",
    "#Create the Facets based on values in the TimeSet field (Set above)\n",
    "g = sns.FacetGrid(dfMA,col='TimeSet',size=10,legend_out=True)\n",
    "\n",
    "#Add the regression plot to each facet\n",
    "g.map(sns.regplot,'RI','MeanFlow_cms',\n",
    "      data=dfMA,\n",
    "      logx=True,\n",
    "      fit_reg=True,\n",
    "      ci=None)\n",
    "\n",
    "#Set the axis values\n",
    "for ax in g.axes.flat:\n",
    "    ax.set(xlim=(0,700),  \n",
    "           ylim=(0,700),\n",
    "           xscale =\"log\"\n",
    "          )"
   ]
  },
  {
   "cell_type": "code",
   "execution_count": null,
   "metadata": {},
   "outputs": [],
   "source": [
    "#Create the canvas (fig) and axes (ax) objects, setting the figure size\n",
    "fig, ax = plt.subplots(figsize=(20,16))\n",
    "\n",
    "#Set axis properties\n",
    "ax.set(xlim=(1,1200),\n",
    "       ylim=(0,1200),\n",
    "       xscale =\"log\"\n",
    "      )\n",
    "\n",
    "#Plot the data\n",
    "ax = sns.regplot(x='RI',\n",
    "                 y='MeanFlow_cms',\n",
    "                 data=dfMA.loc[dfMA.index < 1980],\n",
    "                 logx=True,\n",
    "                 fit_reg=True,\n",
    "                 ci=None,\n",
    "                 label='Pre'\n",
    "                )\n",
    "\n",
    "#Plot the data\n",
    "ax = sns.regplot(x='RI',\n",
    "                 y='MeanFlow_cms',\n",
    "                 data=dfMA.loc[dfMA.index >= 1984],\n",
    "                 logx=True,\n",
    "                 fit_reg=True,\n",
    "                 ci=None,\n",
    "                 label='Post'\n",
    "                )\n",
    "\n",
    "#Set the axis labels.\n",
    "ax.set(xlabel='Return Interval (years)', \n",
    "       ylabel='Peak discharge(cms)'\n",
    "      )\n",
    "\n",
    "ax.legend()\n",
    "\n",
    "#Compute Peak discharges from 100, 500, and 1000 year intervals\n",
    "for RI in (100,500,1000):\n",
    "    #Compute peak discharge from RI\n",
    "    peakFlow = (np.log(RI) * regSlope) + regIntercept\n",
    "    #Add to the plot\n",
    "    ax.plot(RI,peakFlow,'rs',markersize=8) #'rs' = red square markers"
   ]
  },
  {
   "cell_type": "code",
   "execution_count": null,
   "metadata": {},
   "outputs": [],
   "source": [
    "#Filter the data\n",
    "dfPre = df[:'1979-12-31']\n",
    "\n",
    "#Sort the records\n",
    "dfPre.sort_values(by='MeanFlow_cms',ascending=False)\n",
    "\n",
    "#Group data on water_year\n",
    "byYear = df.groupby('water_year')\n",
    "\n",
    "#Compute a series of max annual flow from the grouped data\n",
    "sPeakFlow = byYear['MeanFlow_cms'].max()\n",
    "sPeakFlow.name = \"PeakFlow_cms\"\n",
    "\n",
    "#Compute rankings\n",
    "sRank = sPeakFlow.rank(ascending=False)\n",
    "sRank.name = \"rank\"\n",
    "\n",
    "#Combine peakflow and rank series into a dataframe\n",
    "dfPreMA = pd.concat([sPeakFlow,sRank],axis='columns')\n",
    "\n",
    "#Count the number of years \n",
    "countRecs = dfPreMA['rank'].max()\n",
    "\n",
    "#Compute Return Interval (RI)\n",
    "dfPreMA['RI'] = (countRecs + 1) / dfPreMA['rank']\n",
    "\n",
    "#Compute Probability of exceedance (Pe)\n",
    "dfPreMA['Pe'] = 1 / dfPreMA['RI']"
   ]
  }
 ],
 "metadata": {
  "kernelspec": {
   "display_name": "Python 3",
   "language": "python",
   "name": "python3"
  },
  "language_info": {
   "codemirror_mode": {
    "name": "ipython",
    "version": 3
   },
   "file_extension": ".py",
   "mimetype": "text/x-python",
   "name": "python",
   "nbconvert_exporter": "python",
   "pygments_lexer": "ipython3",
   "version": "3.5.4"
  }
 },
 "nbformat": 4,
 "nbformat_minor": 2
}
