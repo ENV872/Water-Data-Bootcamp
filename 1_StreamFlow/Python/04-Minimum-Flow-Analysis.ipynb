{
 "cells": [
  {
   "cell_type": "code",
   "execution_count": 2,
   "metadata": {
    "collapsed": true
   },
   "outputs": [],
   "source": [
    "#Import modules\n",
    "import pandas as pd\n",
    "import numpy as np\n",
    "import matplotlib.pyplot as plt\n",
    "import seaborn as sns"
   ]
  },
  {
   "cell_type": "code",
   "execution_count": 3,
   "metadata": {
    "collapsed": true
   },
   "outputs": [],
   "source": [
    "#Enable inline plots\n",
    "%matplotlib inline"
   ]
  },
  {
   "cell_type": "code",
   "execution_count": 4,
   "metadata": {
    "collapsed": true
   },
   "outputs": [],
   "source": [
    "#Import the streamflow data CSV and format columns\n",
    "df=pd.read_csv('GageData.csv',dtype={'site_no':'str'},parse_dates=['datetime'])"
   ]
  },
  {
   "cell_type": "code",
   "execution_count": 5,
   "metadata": {
    "collapsed": true
   },
   "outputs": [],
   "source": [
    "#Add year, month, and water_year columns\n",
    "df['year'] = df['datetime'].map(lambda x: x.year)\n",
    "df['month'] = df['datetime'].map(lambda x: x.month)\n",
    "df['water_year'] = df['datetime'].apply(lambda x: x.year if x.month >= 10 else x.year - 1)"
   ]
  },
  {
   "cell_type": "code",
   "execution_count": 6,
   "metadata": {
    "collapsed": true
   },
   "outputs": [],
   "source": [
    "#Compute flow in cms\n",
    "df['MeanFlow_cms'] = df['MeanFlow_cfs'] * 0.028316847 "
   ]
  },
  {
   "cell_type": "code",
   "execution_count": 7,
   "metadata": {
    "collapsed": true
   },
   "outputs": [],
   "source": [
    "#Set the index to full date\n",
    "df.index = df.datetime"
   ]
  },
  {
   "cell_type": "markdown",
   "metadata": {},
   "source": [
    "### Compute total monthly stream flow\n",
    "Group by month and year, computing total discharge for all days in each month."
   ]
  },
  {
   "cell_type": "code",
   "execution_count": 24,
   "metadata": {},
   "outputs": [
    {
     "data": {
      "text/html": [
       "<div>\n",
       "<style>\n",
       "    .dataframe thead tr:only-child th {\n",
       "        text-align: right;\n",
       "    }\n",
       "\n",
       "    .dataframe thead th {\n",
       "        text-align: left;\n",
       "    }\n",
       "\n",
       "    .dataframe tbody tr th {\n",
       "        vertical-align: top;\n",
       "    }\n",
       "</style>\n",
       "<table border=\"1\" class=\"dataframe\">\n",
       "  <thead>\n",
       "    <tr style=\"text-align: right;\">\n",
       "      <th></th>\n",
       "      <th></th>\n",
       "      <th>MeanFlow_cms</th>\n",
       "    </tr>\n",
       "    <tr>\n",
       "      <th>year</th>\n",
       "      <th>month</th>\n",
       "      <th></th>\n",
       "    </tr>\n",
       "  </thead>\n",
       "  <tbody>\n",
       "    <tr>\n",
       "      <th rowspan=\"3\" valign=\"top\">1930</th>\n",
       "      <th>10</th>\n",
       "      <td>161.802464</td>\n",
       "    </tr>\n",
       "    <tr>\n",
       "      <th>11</th>\n",
       "      <td>246.498153</td>\n",
       "    </tr>\n",
       "    <tr>\n",
       "      <th>12</th>\n",
       "      <td>638.941336</td>\n",
       "    </tr>\n",
       "    <tr>\n",
       "      <th rowspan=\"2\" valign=\"top\">1931</th>\n",
       "      <th>1</th>\n",
       "      <td>801.989741</td>\n",
       "    </tr>\n",
       "    <tr>\n",
       "      <th>2</th>\n",
       "      <td>377.973274</td>\n",
       "    </tr>\n",
       "  </tbody>\n",
       "</table>\n",
       "</div>"
      ],
      "text/plain": [
       "            MeanFlow_cms\n",
       "year month              \n",
       "1930 10       161.802464\n",
       "     11       246.498153\n",
       "     12       638.941336\n",
       "1931 1        801.989741\n",
       "     2        377.973274"
      ]
     },
     "execution_count": 24,
     "metadata": {},
     "output_type": "execute_result"
    }
   ],
   "source": [
    "#Group data on water_year\n",
    "groupObj = df.groupby(('year','month'))\n",
    "sMonthlyFlow = groupObj['MeanFlow_cms'].sum()\n",
    "#Convert series to dataframe\n",
    "dfMonthlyFlow = sMeanFlow.to_frame()\n",
    "dfMonthlyFlow.head()"
   ]
  },
  {
   "cell_type": "markdown",
   "metadata": {},
   "source": [
    "### Compute the 7-month rolling average of monthly stream flow"
   ]
  },
  {
   "cell_type": "code",
   "execution_count": 35,
   "metadata": {},
   "outputs": [
    {
     "data": {
      "text/html": [
       "<div>\n",
       "<style>\n",
       "    .dataframe thead tr:only-child th {\n",
       "        text-align: right;\n",
       "    }\n",
       "\n",
       "    .dataframe thead th {\n",
       "        text-align: left;\n",
       "    }\n",
       "\n",
       "    .dataframe tbody tr th {\n",
       "        vertical-align: top;\n",
       "    }\n",
       "</style>\n",
       "<table border=\"1\" class=\"dataframe\">\n",
       "  <thead>\n",
       "    <tr style=\"text-align: right;\">\n",
       "      <th></th>\n",
       "      <th></th>\n",
       "      <th>MeanFlow_cms</th>\n",
       "      <th>7Q</th>\n",
       "    </tr>\n",
       "    <tr>\n",
       "      <th>year</th>\n",
       "      <th>month</th>\n",
       "      <th></th>\n",
       "      <th></th>\n",
       "    </tr>\n",
       "  </thead>\n",
       "  <tbody>\n",
       "    <tr>\n",
       "      <th rowspan=\"3\" valign=\"top\">1930</th>\n",
       "      <th>10</th>\n",
       "      <td>161.802464</td>\n",
       "      <td>NaN</td>\n",
       "    </tr>\n",
       "    <tr>\n",
       "      <th>11</th>\n",
       "      <td>246.498153</td>\n",
       "      <td>NaN</td>\n",
       "    </tr>\n",
       "    <tr>\n",
       "      <th>12</th>\n",
       "      <td>638.941336</td>\n",
       "      <td>NaN</td>\n",
       "    </tr>\n",
       "    <tr>\n",
       "      <th rowspan=\"7\" valign=\"top\">1931</th>\n",
       "      <th>1</th>\n",
       "      <td>801.989741</td>\n",
       "      <td>NaN</td>\n",
       "    </tr>\n",
       "    <tr>\n",
       "      <th>2</th>\n",
       "      <td>377.973274</td>\n",
       "      <td>NaN</td>\n",
       "    </tr>\n",
       "    <tr>\n",
       "      <th>3</th>\n",
       "      <td>628.888855</td>\n",
       "      <td>NaN</td>\n",
       "    </tr>\n",
       "    <tr>\n",
       "      <th>4</th>\n",
       "      <td>1587.867196</td>\n",
       "      <td>634.851574</td>\n",
       "    </tr>\n",
       "    <tr>\n",
       "      <th>5</th>\n",
       "      <td>1612.984239</td>\n",
       "      <td>842.163256</td>\n",
       "    </tr>\n",
       "    <tr>\n",
       "      <th>6</th>\n",
       "      <td>457.373713</td>\n",
       "      <td>872.288336</td>\n",
       "    </tr>\n",
       "    <tr>\n",
       "      <th>7</th>\n",
       "      <td>871.196115</td>\n",
       "      <td>905.467590</td>\n",
       "    </tr>\n",
       "  </tbody>\n",
       "</table>\n",
       "</div>"
      ],
      "text/plain": [
       "            MeanFlow_cms          7Q\n",
       "year month                          \n",
       "1930 10       161.802464         NaN\n",
       "     11       246.498153         NaN\n",
       "     12       638.941336         NaN\n",
       "1931 1        801.989741         NaN\n",
       "     2        377.973274         NaN\n",
       "     3        628.888855         NaN\n",
       "     4       1587.867196  634.851574\n",
       "     5       1612.984239  842.163256\n",
       "     6        457.373713  872.288336\n",
       "     7        871.196115  905.467590"
      ]
     },
     "execution_count": 35,
     "metadata": {},
     "output_type": "execute_result"
    }
   ],
   "source": [
    "#Compute 7 month rolling average\n",
    "dfMonthlyFlow['7Q'] = dfMonthlyFlow.rolling(window=7,min_periods=7).mean()\n",
    "dfMonthlyFlow.head(10)"
   ]
  },
  {
   "cell_type": "markdown",
   "metadata": {},
   "source": [
    "### Compute min of 7Q for each year"
   ]
  },
  {
   "cell_type": "code",
   "execution_count": 37,
   "metadata": {},
   "outputs": [
    {
     "data": {
      "text/html": [
       "<div>\n",
       "<style>\n",
       "    .dataframe thead tr:only-child th {\n",
       "        text-align: right;\n",
       "    }\n",
       "\n",
       "    .dataframe thead th {\n",
       "        text-align: left;\n",
       "    }\n",
       "\n",
       "    .dataframe tbody tr th {\n",
       "        vertical-align: top;\n",
       "    }\n",
       "</style>\n",
       "<table border=\"1\" class=\"dataframe\">\n",
       "  <thead>\n",
       "    <tr style=\"text-align: right;\">\n",
       "      <th></th>\n",
       "      <th>7Q</th>\n",
       "    </tr>\n",
       "    <tr>\n",
       "      <th>year</th>\n",
       "      <th></th>\n",
       "    </tr>\n",
       "  </thead>\n",
       "  <tbody>\n",
       "    <tr>\n",
       "      <th>1931</th>\n",
       "      <td>634.851574</td>\n",
       "    </tr>\n",
       "    <tr>\n",
       "      <th>1932</th>\n",
       "      <td>401.399397</td>\n",
       "    </tr>\n",
       "    <tr>\n",
       "      <th>1933</th>\n",
       "      <td>184.913056</td>\n",
       "    </tr>\n",
       "    <tr>\n",
       "      <th>1934</th>\n",
       "      <td>163.958589</td>\n",
       "    </tr>\n",
       "    <tr>\n",
       "      <th>1935</th>\n",
       "      <td>505.241320</td>\n",
       "    </tr>\n",
       "  </tbody>\n",
       "</table>\n",
       "</div>"
      ],
      "text/plain": [
       "              7Q\n",
       "year            \n",
       "1931  634.851574\n",
       "1932  401.399397\n",
       "1933  184.913056\n",
       "1934  163.958589\n",
       "1935  505.241320"
      ]
     },
     "execution_count": 37,
     "metadata": {},
     "output_type": "execute_result"
    }
   ],
   "source": [
    "dfLowFlow = dfMonthlyFlow.groupby('year')['7Q'].min().to_frame()\n",
    "#Drop null records\n",
    "dfLowFlow.dropna(inplace=True)\n",
    "\n",
    "dfLowFlow.head()"
   ]
  },
  {
   "cell_type": "markdown",
   "metadata": {},
   "source": [
    "#### Compute return interval and probability of recurrence"
   ]
  },
  {
   "cell_type": "code",
   "execution_count": 39,
   "metadata": {},
   "outputs": [],
   "source": [
    "### Compute rankings\n",
    "dfLowFlow['rank'] = dfLowFlow.rank(ascending=True)\n",
    "dfLowFlow.sort_values(by='7Q',ascending=True,inplace=True)"
   ]
  },
  {
   "cell_type": "code",
   "execution_count": 41,
   "metadata": {},
   "outputs": [],
   "source": [
    "# Compute Return Interval\n",
    "countRecs = dfLowFlow['rank'].max()\n",
    "dfLowFlow['RI'] = (countRecs + 1) / dfLowFlow['rank']"
   ]
  },
  {
   "cell_type": "code",
   "execution_count": 42,
   "metadata": {
    "collapsed": true
   },
   "outputs": [],
   "source": [
    "# Compute probability of recurrence (POR)\n",
    "dfLowFlow['Pe'] = 1 / dfLowFlow['RI'] * 100"
   ]
  },
  {
   "cell_type": "code",
   "execution_count": 43,
   "metadata": {},
   "outputs": [
    {
     "data": {
      "text/html": [
       "<div>\n",
       "<style>\n",
       "    .dataframe thead tr:only-child th {\n",
       "        text-align: right;\n",
       "    }\n",
       "\n",
       "    .dataframe thead th {\n",
       "        text-align: left;\n",
       "    }\n",
       "\n",
       "    .dataframe tbody tr th {\n",
       "        vertical-align: top;\n",
       "    }\n",
       "</style>\n",
       "<table border=\"1\" class=\"dataframe\">\n",
       "  <thead>\n",
       "    <tr style=\"text-align: right;\">\n",
       "      <th></th>\n",
       "      <th>7Q</th>\n",
       "      <th>rank</th>\n",
       "      <th>RI</th>\n",
       "      <th>Pe</th>\n",
       "    </tr>\n",
       "    <tr>\n",
       "      <th>year</th>\n",
       "      <th></th>\n",
       "      <th></th>\n",
       "      <th></th>\n",
       "      <th></th>\n",
       "    </tr>\n",
       "  </thead>\n",
       "  <tbody>\n",
       "    <tr>\n",
       "      <th>1934</th>\n",
       "      <td>163.958589</td>\n",
       "      <td>1.0</td>\n",
       "      <td>88.000000</td>\n",
       "      <td>1.136364</td>\n",
       "    </tr>\n",
       "    <tr>\n",
       "      <th>1981</th>\n",
       "      <td>173.772400</td>\n",
       "      <td>2.0</td>\n",
       "      <td>44.000000</td>\n",
       "      <td>2.272727</td>\n",
       "    </tr>\n",
       "    <tr>\n",
       "      <th>1933</th>\n",
       "      <td>184.913056</td>\n",
       "      <td>3.0</td>\n",
       "      <td>29.333333</td>\n",
       "      <td>3.409091</td>\n",
       "    </tr>\n",
       "    <tr>\n",
       "      <th>1942</th>\n",
       "      <td>226.385101</td>\n",
       "      <td>4.0</td>\n",
       "      <td>22.000000</td>\n",
       "      <td>4.545455</td>\n",
       "    </tr>\n",
       "    <tr>\n",
       "      <th>1980</th>\n",
       "      <td>226.708722</td>\n",
       "      <td>5.0</td>\n",
       "      <td>17.600000</td>\n",
       "      <td>5.681818</td>\n",
       "    </tr>\n",
       "  </tbody>\n",
       "</table>\n",
       "</div>"
      ],
      "text/plain": [
       "              7Q  rank         RI        Pe\n",
       "year                                       \n",
       "1934  163.958589   1.0  88.000000  1.136364\n",
       "1981  173.772400   2.0  44.000000  2.272727\n",
       "1933  184.913056   3.0  29.333333  3.409091\n",
       "1942  226.385101   4.0  22.000000  4.545455\n",
       "1980  226.708722   5.0  17.600000  5.681818"
      ]
     },
     "execution_count": 43,
     "metadata": {},
     "output_type": "execute_result"
    }
   ],
   "source": [
    "dfLowFlow.head()"
   ]
  },
  {
   "cell_type": "markdown",
   "metadata": {},
   "source": [
    "### SANDBOX"
   ]
  },
  {
   "cell_type": "code",
   "execution_count": 48,
   "metadata": {},
   "outputs": [
    {
     "data": {
      "image/png": "[encoded data removed]",
      "text/plain": [
       "<matplotlib.figure.Figure at 0x1a9f0e5ceb8>"
      ]
     },
     "metadata": {},
     "output_type": "display_data"
    }
   ],
   "source": [
    "x = dfLowFlow['Pe']\n",
    "y = dfLowFlow['7Q']\n",
    "\n",
    "plt.scatter(x,y);"
   ]
  },
  {
   "cell_type": "code",
   "execution_count": 61,
   "metadata": {},
   "outputs": [
    {
     "data": {
      "image/png": "[encoded data removed]",
      "text/plain": [
       "<matplotlib.figure.Figure at 0x1a9f0f0abe0>"
      ]
     },
     "metadata": {},
     "output_type": "display_data"
    }
   ],
   "source": [
    "from sklearn.linear_model import LinearRegression\n",
    "model = LinearRegression(fit_intercept=True)\n",
    "\n",
    "model.fit(x[:,np.newaxis],y)\n",
    "\n",
    "xfit = np.linspace(x.min(),x.max(),100)\n",
    "yfit = model.predict(xfit[:,np.newaxis])\n",
    "\n",
    "plt.scatter(x,y)\n",
    "plt.plot(xfit,yfit);"
   ]
  },
  {
   "cell_type": "code",
   "execution_count": 64,
   "metadata": {},
   "outputs": [
    {
     "name": "stdout",
     "output_type": "stream",
     "text": [
      "Slope :  7.35011343584\n",
      "Intercept 121.901834475\n"
     ]
    }
   ],
   "source": [
    "print(\"Slope : \", model.coef_[0])\n",
    "print(\"Intercept\", model.intercept_)"
   ]
  },
  {
   "cell_type": "markdown",
   "metadata": {},
   "source": [
    "### Compute the regression using NumPy functions"
   ]
  },
  {
   "cell_type": "code",
   "execution_count": null,
   "metadata": {
    "collapsed": true
   },
   "outputs": [],
   "source": [
    "x = dfAnnualLow['Pe']\n",
    "y = dfAnnualLow['7Q']"
   ]
  },
  {
   "cell_type": "code",
   "execution_count": null,
   "metadata": {},
   "outputs": [],
   "source": [
    "# Compute the slope and intercept using the polyfit\n",
    "regSlope, regIntercept = np.polyfit(np.log(x), y, 1)\n",
    "print(regSlope, regIntercept)"
   ]
  },
  {
   "cell_type": "code",
   "execution_count": null,
   "metadata": {},
   "outputs": [],
   "source": [
    "#Convert the regression components into a printable formula\n",
    "regText = \"y = {0:.1f}x + {1:.1f}\".format(regSlope,regIntercept)\n",
    "print(regText)"
   ]
  },
  {
   "cell_type": "code",
   "execution_count": null,
   "metadata": {},
   "outputs": [],
   "source": [
    "# Compute p\n",
    "p = np.poly1d(regSlope, regIntercept)\n",
    "print(p.r)"
   ]
  },
  {
   "cell_type": "markdown",
   "metadata": {},
   "source": [
    "### Plotting\n",
    "https://seaborn.pydata.org/tutorial/regression.html\n",
    "https://seaborn.pydata.org/generated/seaborn.regplot.html#seaborn.regplot"
   ]
  },
  {
   "cell_type": "code",
   "execution_count": null,
   "metadata": {
    "collapsed": true
   },
   "outputs": [],
   "source": [
    "#Set the style to use Seaborn\n",
    "sns.set(color_codes=True,font_scale=2)"
   ]
  },
  {
   "cell_type": "code",
   "execution_count": null,
   "metadata": {},
   "outputs": [],
   "source": [
    "from scipy.optimize import curve_fit\n",
    "\n",
    "# define type of function to search; here it's exponential\n",
    "def exponential_func(x, a, b, c):\n",
    "    return a*np.exp(-b*x)+c\n",
    "\n",
    "# curve fit\n",
    "popt, pcov = curve_fit(exponenial_func, x, y, p0=(1, 1e-6, 1))\n",
    "print (pcov)\n",
    "print (popt)"
   ]
  },
  {
   "cell_type": "code",
   "execution_count": null,
   "metadata": {},
   "outputs": [],
   "source": [
    "# test result\n",
    "x2 = np.linspace(0, 100, 25)\n",
    "exponential_func(x2, popt)\n",
    "\n",
    "fig, ax = plt.subplots()\n",
    "ax.plot(x2, y2, color='r', label='Fit. func: $f(x) = %.3f e^{%.3f x} %+.3f$' % (a,k,b))\n",
    "ax.plot(x, y, 'bo', label='data with noise')\n",
    "ax.legend(loc='best')\n",
    "plt.show()"
   ]
  },
  {
   "cell_type": "code",
   "execution_count": null,
   "metadata": {
    "collapsed": true
   },
   "outputs": [],
   "source": [
    "#dfAnnualLow['7Qexp'] = np.exp(dfAnnualLow['7Q'])\n",
    "dfAnnualLow['ln7Q'] = np.log(dfAnnualLow['7Q'])"
   ]
  },
  {
   "cell_type": "code",
   "execution_count": null,
   "metadata": {},
   "outputs": [],
   "source": [
    "#Create the canvas (fig) and axes (ax) objects, setting the figure size\n",
    "fig, ax = plt.subplots(figsize=(20,6))\n",
    "\n",
    "#Set axis properties\n",
    "ax.set(xlim=(1,100),\n",
    "       ylim=(0,1200),\n",
    "#       xscale =\"\",\n",
    "       label=regText\n",
    "      )\n",
    "\n",
    "#Plot the data\n",
    "ax = sns.regplot(x='Pe',\n",
    "                 y='ln7Q',\n",
    "                 data=dfAnnualLow,\n",
    "                 logx=False,\n",
    "                 fit_reg=True,\n",
    "                 ci=None)\n",
    "\n",
    "#Set the axis labels.\n",
    "ax.set(xlabel='Probability of recurrance (%)', \n",
    "       ylabel='Peak discharge(cms)',\n",
    "       title=regText\n",
    "      )"
   ]
  },
  {
   "cell_type": "code",
   "execution_count": null,
   "metadata": {},
   "outputs": [],
   "source": [
    "#Compute Peak discharges from 100, 500, and 1000 year intervals\n",
    "for RI in (100,500,1000):\n",
    "    #Compute peak discharge from RI\n",
    "    peakFlow = (np.log(RI) * regSlope) + regIntercept\n",
    "    #Add to the plot\n",
    "    ax.plot(RI,peakFlow,'rs',markersize=8) #'rs' = red square markers"
   ]
  },
  {
   "cell_type": "markdown",
   "metadata": {},
   "source": [
    "## Plot pre vs post Falls Lake 1980 data"
   ]
  },
  {
   "cell_type": "code",
   "execution_count": null,
   "metadata": {
    "collapsed": true
   },
   "outputs": [],
   "source": [
    "#Set the TimeSet variable to pre or post, using index (i.e. year) values \n",
    "dfMA.loc[dfMA.index < 1980,'TimeSet'] = 'PreFallsLake'\n",
    "dfMA.loc[dfMA.index >= 1984,'TimeSet'] = 'PostFallsLake'"
   ]
  },
  {
   "cell_type": "code",
   "execution_count": null,
   "metadata": {
    "collapsed": true
   },
   "outputs": [],
   "source": [
    "#Plot multiple frames using Seaborn's FacetGrids\n",
    "\n",
    "#Create the Facets based on values in the TimeSet field (Set above)\n",
    "g = sns.FacetGrid(dfMA,col='TimeSet',size=10,legend_out=True)\n",
    "\n",
    "#Add the regression plot to each facet\n",
    "g.map(sns.regplot,'RI','MeanFlow_cms',\n",
    "      data=dfMA,\n",
    "      logx=True,\n",
    "      fit_reg=True,\n",
    "      ci=None)\n",
    "\n",
    "#Set the axis values\n",
    "for ax in g.axes.flat:\n",
    "    ax.set(xlim=(0,700),  \n",
    "           ylim=(0,700),\n",
    "           xscale =\"log\"\n",
    "          )"
   ]
  },
  {
   "cell_type": "code",
   "execution_count": null,
   "metadata": {
    "collapsed": true
   },
   "outputs": [],
   "source": [
    "#Create the canvas (fig) and axes (ax) objects, setting the figure size\n",
    "fig, ax = plt.subplots(figsize=(20,16))\n",
    "\n",
    "#Set axis properties\n",
    "ax.set(xlim=(1,1200),\n",
    "       ylim=(0,1200),\n",
    "       xscale =\"log\"\n",
    "      )\n",
    "\n",
    "#Plot the data\n",
    "ax = sns.regplot(x='RI',\n",
    "                 y='MeanFlow_cms',\n",
    "                 data=dfMA.loc[dfMA.index < 1980],\n",
    "                 logx=True,\n",
    "                 fit_reg=True,\n",
    "                 ci=None,\n",
    "                 label='Pre'\n",
    "                )\n",
    "\n",
    "#Plot the data\n",
    "ax = sns.regplot(x='RI',\n",
    "                 y='MeanFlow_cms',\n",
    "                 data=dfMA.loc[dfMA.index >= 1984],\n",
    "                 logx=True,\n",
    "                 fit_reg=True,\n",
    "                 ci=None,\n",
    "                 label='Post'\n",
    "                )\n",
    "\n",
    "#Set the axis labels.\n",
    "ax.set(xlabel='Return Interval (years)', \n",
    "       ylabel='Peak discharge(cms)'\n",
    "      )\n",
    "\n",
    "ax.legend()\n",
    "\n",
    "#Compute Peak discharges from 100, 500, and 1000 year intervals\n",
    "for RI in (100,500,1000):\n",
    "    #Compute peak discharge from RI\n",
    "    peakFlow = (np.log(RI) * regSlope) + regIntercept\n",
    "    #Add to the plot\n",
    "    ax.plot(RI,peakFlow,'rs',markersize=8) #'rs' = red square markers"
   ]
  },
  {
   "cell_type": "code",
   "execution_count": null,
   "metadata": {
    "collapsed": true
   },
   "outputs": [],
   "source": [
    "#Filter the data\n",
    "dfPre = df[:'1979-12-31']\n",
    "\n",
    "#Sort the records\n",
    "dfPre.sort_values(by='MeanFlow_cms',ascending=False)\n",
    "\n",
    "#Group data on water_year\n",
    "byYear = df.groupby('water_year')\n",
    "\n",
    "#Compute a series of max annual flow from the grouped data\n",
    "sPeakFlow = byYear['MeanFlow_cms'].max()\n",
    "sPeakFlow.name = \"PeakFlow_cms\"\n",
    "\n",
    "#Compute rankings\n",
    "sRank = sPeakFlow.rank(ascending=False)\n",
    "sRank.name = \"rank\"\n",
    "\n",
    "#Combine peakflow and rank series into a dataframe\n",
    "dfPreMA = pd.concat([sPeakFlow,sRank],axis='columns')\n",
    "\n",
    "#Count the number of years \n",
    "countRecs = dfPreMA['rank'].max()\n",
    "\n",
    "#Compute Return Interval (RI)\n",
    "dfPreMA['RI'] = (countRecs + 1) / dfPreMA['rank']\n",
    "\n",
    "#Compute Probability of exceedance (Pe)\n",
    "dfPreMA['Pe'] = 1 / dfPreMA['RI']"
   ]
  }
 ],
 "metadata": {
  "kernelspec": {
   "display_name": "Python 3",
   "language": "python",
   "name": "python3"
  },
  "language_info": {
   "codemirror_mode": {
    "name": "ipython",
    "version": 3
   },
   "file_extension": ".py",
   "mimetype": "text/x-python",
   "name": "python",
   "nbconvert_exporter": "python",
   "pygments_lexer": "ipython3",
   "version": "3.5.4"
  }
 },
 "nbformat": 4,
 "nbformat_minor": 2
}
