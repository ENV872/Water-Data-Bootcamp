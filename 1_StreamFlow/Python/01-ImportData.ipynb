{
 "cells": [
  {
   "cell_type": "markdown",
   "metadata": {},
   "source": [
    "Service Documentation\n",
    "https://waterservices.usgs.gov/rest/DV-Test-Tool.html\n",
    "\n",
    "Example URL:\n",
    "http://waterservices.usgs.gov/nwis/dv/?format=rdb&sites=02089000&startDT=2010-10-01&endDT=2017-09-30&statCd=00003&parameterCd=00060&siteStatus=all"
   ]
  },
  {
   "cell_type": "code",
   "execution_count": 3,
   "metadata": {
    "collapsed": true
   },
   "outputs": [],
   "source": [
    "#Import libraries\n",
    "import requests\n",
    "import pandas as pd\n",
    "import io"
   ]
  },
  {
   "cell_type": "code",
   "execution_count": 4,
   "metadata": {
    "collapsed": true
   },
   "outputs": [],
   "source": [
    "#Set site, parameter, and stat codes\n",
    "siteNo = '02087500' #Neuse R. Near Clayton \n",
    "pcode = '00060'     #Discharge (cfs)\n",
    "scode = '00003'     #Daily mean"
   ]
  },
  {
   "cell_type": "code",
   "execution_count": 5,
   "metadata": {
    "collapsed": true
   },
   "outputs": [],
   "source": [
    "#Set start and end dates\n",
    "startDate = '1930-10-01'\n",
    "endDate = '2017-09-03'"
   ]
  },
  {
   "cell_type": "code",
   "execution_count": 6,
   "metadata": {
    "collapsed": true
   },
   "outputs": [],
   "source": [
    "#Construct the service URL and parameters\n",
    "#https://waterdata.usgs.gov/nwis/dv?\n",
    "url =  'https://waterservices.usgs.gov/nwis/dv'\n",
    "params = {'sites':siteNo,\n",
    "          'parameterCd':pcode,\n",
    "          'statCd':scode,\n",
    "          'startDT':startDate,\n",
    "          'endDT':endDate,\n",
    "          'format':'rdb',\n",
    "          'siteStatus':'all'\n",
    "         }"
   ]
  },
  {
   "cell_type": "code",
   "execution_count": 7,
   "metadata": {
    "collapsed": true
   },
   "outputs": [],
   "source": [
    "#Send the requests and translate the response\n",
    "response_raw = requests.get(url,params)\n",
    "response_clean = response_raw.content.decode('utf-8')"
   ]
  },
  {
   "cell_type": "code",
   "execution_count": 8,
   "metadata": {
    "collapsed": true
   },
   "outputs": [],
   "source": [
    "#Create a list of rows to skip; rows 1-29 and 31 \n",
    "rowsToSkip = list(range(29))\n",
    "#Append '30' to the list\n",
    "rowsToSkip.append(30)"
   ]
  },
  {
   "cell_type": "code",
   "execution_count": 9,
   "metadata": {
    "collapsed": true
   },
   "outputs": [],
   "source": [
    "#Convert the data into a data frame\n",
    "df = pd.read_csv(io.StringIO(response_clean),\n",
    "                 skiprows=rowsToSkip,     #Skip metadta and data spec lines\n",
    "                 delimiter='\\t',          #Set to tab delimited\n",
    "                 dtype={'site_no':'str'}) #Set site_no to a string datatype"
   ]
  },
  {
   "cell_type": "code",
   "execution_count": 10,
   "metadata": {},
   "outputs": [
    {
     "data": {
      "text/html": [
       "<div>\n",
       "<style>\n",
       "    .dataframe thead tr:only-child th {\n",
       "        text-align: right;\n",
       "    }\n",
       "\n",
       "    .dataframe thead th {\n",
       "        text-align: left;\n",
       "    }\n",
       "\n",
       "    .dataframe tbody tr th {\n",
       "        vertical-align: top;\n",
       "    }\n",
       "</style>\n",
       "<table border=\"1\" class=\"dataframe\">\n",
       "  <thead>\n",
       "    <tr style=\"text-align: right;\">\n",
       "      <th></th>\n",
       "      <th>agency_cd</th>\n",
       "      <th>site_no</th>\n",
       "      <th>datetime</th>\n",
       "      <th>85235_00060_00003</th>\n",
       "      <th>85235_00060_00003_cd</th>\n",
       "    </tr>\n",
       "  </thead>\n",
       "  <tbody>\n",
       "    <tr>\n",
       "      <th>0</th>\n",
       "      <td>USGS</td>\n",
       "      <td>02087500</td>\n",
       "      <td>1930-10-01</td>\n",
       "      <td>347.0</td>\n",
       "      <td>A</td>\n",
       "    </tr>\n",
       "    <tr>\n",
       "      <th>1</th>\n",
       "      <td>USGS</td>\n",
       "      <td>02087500</td>\n",
       "      <td>1930-10-02</td>\n",
       "      <td>173.0</td>\n",
       "      <td>A</td>\n",
       "    </tr>\n",
       "    <tr>\n",
       "      <th>2</th>\n",
       "      <td>USGS</td>\n",
       "      <td>02087500</td>\n",
       "      <td>1930-10-03</td>\n",
       "      <td>132.0</td>\n",
       "      <td>A</td>\n",
       "    </tr>\n",
       "    <tr>\n",
       "      <th>3</th>\n",
       "      <td>USGS</td>\n",
       "      <td>02087500</td>\n",
       "      <td>1930-10-04</td>\n",
       "      <td>125.0</td>\n",
       "      <td>A</td>\n",
       "    </tr>\n",
       "    <tr>\n",
       "      <th>4</th>\n",
       "      <td>USGS</td>\n",
       "      <td>02087500</td>\n",
       "      <td>1930-10-05</td>\n",
       "      <td>125.0</td>\n",
       "      <td>A</td>\n",
       "    </tr>\n",
       "  </tbody>\n",
       "</table>\n",
       "</div>"
      ],
      "text/plain": [
       "  agency_cd   site_no    datetime  85235_00060_00003 85235_00060_00003_cd\n",
       "0      USGS  02087500  1930-10-01              347.0                    A\n",
       "1      USGS  02087500  1930-10-02              173.0                    A\n",
       "2      USGS  02087500  1930-10-03              132.0                    A\n",
       "3      USGS  02087500  1930-10-04              125.0                    A\n",
       "4      USGS  02087500  1930-10-05              125.0                    A"
      ]
     },
     "execution_count": 10,
     "metadata": {},
     "output_type": "execute_result"
    }
   ],
   "source": [
    "#Display the first 5 rows\n",
    "df.head()"
   ]
  },
  {
   "cell_type": "code",
   "execution_count": 11,
   "metadata": {},
   "outputs": [
    {
     "data": {
      "text/html": [
       "<div>\n",
       "<style>\n",
       "    .dataframe thead tr:only-child th {\n",
       "        text-align: right;\n",
       "    }\n",
       "\n",
       "    .dataframe thead th {\n",
       "        text-align: left;\n",
       "    }\n",
       "\n",
       "    .dataframe tbody tr th {\n",
       "        vertical-align: top;\n",
       "    }\n",
       "</style>\n",
       "<table border=\"1\" class=\"dataframe\">\n",
       "  <thead>\n",
       "    <tr style=\"text-align: right;\">\n",
       "      <th></th>\n",
       "      <th>agency_cd</th>\n",
       "      <th>site_no</th>\n",
       "      <th>datetime</th>\n",
       "      <th>MeanFlow_cfs</th>\n",
       "      <th>Confidence</th>\n",
       "    </tr>\n",
       "  </thead>\n",
       "  <tbody>\n",
       "    <tr>\n",
       "      <th>0</th>\n",
       "      <td>USGS</td>\n",
       "      <td>02087500</td>\n",
       "      <td>1930-10-01</td>\n",
       "      <td>347.0</td>\n",
       "      <td>A</td>\n",
       "    </tr>\n",
       "    <tr>\n",
       "      <th>1</th>\n",
       "      <td>USGS</td>\n",
       "      <td>02087500</td>\n",
       "      <td>1930-10-02</td>\n",
       "      <td>173.0</td>\n",
       "      <td>A</td>\n",
       "    </tr>\n",
       "    <tr>\n",
       "      <th>2</th>\n",
       "      <td>USGS</td>\n",
       "      <td>02087500</td>\n",
       "      <td>1930-10-03</td>\n",
       "      <td>132.0</td>\n",
       "      <td>A</td>\n",
       "    </tr>\n",
       "    <tr>\n",
       "      <th>3</th>\n",
       "      <td>USGS</td>\n",
       "      <td>02087500</td>\n",
       "      <td>1930-10-04</td>\n",
       "      <td>125.0</td>\n",
       "      <td>A</td>\n",
       "    </tr>\n",
       "    <tr>\n",
       "      <th>4</th>\n",
       "      <td>USGS</td>\n",
       "      <td>02087500</td>\n",
       "      <td>1930-10-05</td>\n",
       "      <td>125.0</td>\n",
       "      <td>A</td>\n",
       "    </tr>\n",
       "  </tbody>\n",
       "</table>\n",
       "</div>"
      ],
      "text/plain": [
       "  agency_cd   site_no    datetime  MeanFlow_cfs Confidence\n",
       "0      USGS  02087500  1930-10-01         347.0          A\n",
       "1      USGS  02087500  1930-10-02         173.0          A\n",
       "2      USGS  02087500  1930-10-03         132.0          A\n",
       "3      USGS  02087500  1930-10-04         125.0          A\n",
       "4      USGS  02087500  1930-10-05         125.0          A"
      ]
     },
     "execution_count": 11,
     "metadata": {},
     "output_type": "execute_result"
    }
   ],
   "source": [
    "#Rename the last two fields\n",
    "df.rename(columns={'85235_00060_00003':'MeanFlow_cfs','85235_00060_00003_cd':'Confidence'},inplace=True)\n",
    "df.head()"
   ]
  },
  {
   "cell_type": "code",
   "execution_count": 12,
   "metadata": {},
   "outputs": [
    {
     "data": {
      "text/plain": [
       "agency_cd        object\n",
       "site_no          object\n",
       "datetime         object\n",
       "MeanFlow_cfs    float64\n",
       "Confidence       object\n",
       "dtype: object"
      ]
     },
     "execution_count": 12,
     "metadata": {},
     "output_type": "execute_result"
    }
   ],
   "source": [
    "df.dtypes"
   ]
  },
  {
   "cell_type": "code",
   "execution_count": 13,
   "metadata": {
    "collapsed": true
   },
   "outputs": [],
   "source": [
    "#Save to a csv file\n",
    "df.to_csv('GageData.csv',index=False)"
   ]
  }
 ],
 "metadata": {
  "kernelspec": {
   "display_name": "Python 3",
   "language": "python",
   "name": "python3"
  },
  "language_info": {
   "codemirror_mode": {
    "name": "ipython",
    "version": 3
   },
   "file_extension": ".py",
   "mimetype": "text/x-python",
   "name": "python",
   "nbconvert_exporter": "python",
   "pygments_lexer": "ipython3",
   "version": "3.5.3"
  }
 },
 "nbformat": 4,
 "nbformat_minor": 2
}
